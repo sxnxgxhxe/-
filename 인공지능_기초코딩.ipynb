{
  "cells": [
    {
      "cell_type": "markdown",
      "metadata": {
        "id": "view-in-github",
        "colab_type": "text"
      },
      "source": [
        "<a href=\"https://colab.research.google.com/github/sxnxgxhxe/-/blob/main/%EC%9D%B8%EA%B3%B5%EC%A7%80%EB%8A%A5_%EA%B8%B0%EC%B4%88%EC%BD%94%EB%94%A9.ipynb\" target=\"_parent\"><img src=\"https://colab.research.google.com/assets/colab-badge.svg\" alt=\"Open In Colab\"/></a>"
      ]
    },
    {
      "cell_type": "code",
      "source": [
        "# 주석입니다\n",
        "\n",
        "'''\n",
        "여러줄\n",
        "주석입니다.\n",
        "'''\n",
        "\n",
        "\"\"\"\n",
        "여러줄\n",
        "주석입니다.\n",
        "\"\"\""
      ],
      "metadata": {
        "id": "VbKk_1M4ea5Y",
        "colab": {
          "base_uri": "https://localhost:8080/",
          "height": 35
        },
        "outputId": "05e926a6-a03e-452f-8b1f-74476123f030"
      },
      "execution_count": null,
      "outputs": [
        {
          "output_type": "execute_result",
          "data": {
            "text/plain": [
              "'\\n여러줄\\n주석입니다.\\n'"
            ],
            "application/vnd.google.colaboratory.intrinsic+json": {
              "type": "string"
            }
          },
          "metadata": {},
          "execution_count": 1
        }
      ]
    },
    {
      "cell_type": "markdown",
      "source": [],
      "metadata": {
        "id": "1BNxUdjTKIzp"
      }
    },
    {
      "cell_type": "markdown",
      "source": [],
      "metadata": {
        "id": "6Ndi8neKuWl4"
      }
    },
    {
      "cell_type": "markdown",
      "source": [
        "# 주석"
      ],
      "metadata": {
        "id": "L3J6FC7vuXZY"
      }
    },
    {
      "cell_type": "markdown",
      "source": [
        "# 변수"
      ],
      "metadata": {
        "id": "JarEA1-Cufiw"
      }
    },
    {
      "cell_type": "code",
      "source": [
        "# 마지막라인만 출력\n",
        "1 + 1\n",
        "2 + 2\n",
        "3 + 3\n",
        "4 + 4"
      ],
      "metadata": {
        "colab": {
          "base_uri": "https://localhost:8080/"
        },
        "id": "o7KU6Tg5fIaJ",
        "outputId": "d835bc05-3dab-4563-8f40-ed2ae514706d"
      },
      "execution_count": null,
      "outputs": [
        {
          "output_type": "execute_result",
          "data": {
            "text/plain": [
              "8"
            ]
          },
          "metadata": {},
          "execution_count": 2
        }
      ]
    },
    {
      "cell_type": "code",
      "source": [
        "# ctrl alt 윗방향키, 모두다 출력, '파이썬'에서 '변수'는 가르키는 것(화살표) 저장x\n",
        "print(1 + 1)\n",
        "print(2 + 2)\n",
        "print(3 + 3)\n",
        "print(4 + 4)"
      ],
      "metadata": {
        "colab": {
          "base_uri": "https://localhost:8080/"
        },
        "id": "JxaZi2fjitFo",
        "outputId": "37e28de9-c4be-4d97-a731-54ac6b52cbe3"
      },
      "execution_count": null,
      "outputs": [
        {
          "output_type": "stream",
          "name": "stdout",
          "text": [
            "2\n",
            "4\n",
            "6\n",
            "8\n"
          ]
        }
      ]
    },
    {
      "cell_type": "code",
      "source": [
        "name = 'seunghoe'\n",
        "age = 10"
      ],
      "metadata": {
        "id": "Ne-dAfiYjLt-"
      },
      "execution_count": null,
      "outputs": []
    },
    {
      "cell_type": "code",
      "source": [
        "age + age"
      ],
      "metadata": {
        "colab": {
          "base_uri": "https://localhost:8080/"
        },
        "id": "dF4SAJ7UkBXJ",
        "outputId": "5c77d2d3-0113-412d-c5f0-297cfb8915eb"
      },
      "execution_count": null,
      "outputs": [
        {
          "output_type": "execute_result",
          "data": {
            "text/plain": [
              "20"
            ]
          },
          "metadata": {},
          "execution_count": 5
        }
      ]
    },
    {
      "cell_type": "code",
      "source": [
        "x = 10\n",
        "y = x\n",
        "z = y\n",
        "\n",
        "# 화살표는?\n",
        "\n",
        "# 오해 : z > y > x > 10\n",
        "\n",
        "# x > 10\n",
        "# y > 10\n",
        "# z > 10"
      ],
      "metadata": {
        "id": "aA5C5NjykXPX"
      },
      "execution_count": null,
      "outputs": []
    },
    {
      "cell_type": "code",
      "source": [
        "id(x), id(y), id(z)"
      ],
      "metadata": {
        "colab": {
          "base_uri": "https://localhost:8080/"
        },
        "id": "9RCPU8vRkvSP",
        "outputId": "c8cd3e40-0679-4bc1-cd31-2e21fbf61ad7"
      },
      "execution_count": null,
      "outputs": [
        {
          "output_type": "execute_result",
          "data": {
            "text/plain": [
              "(140007806059024, 140007806059024, 140007806059024)"
            ]
          },
          "metadata": {},
          "execution_count": 7
        }
      ]
    },
    {
      "cell_type": "code",
      "source": [
        "x = 10\n",
        "y = x\n",
        "z = y\n",
        "\n",
        "y = 20\n",
        "print(z)"
      ],
      "metadata": {
        "colab": {
          "base_uri": "https://localhost:8080/"
        },
        "id": "ZcVpXhhYlXkt",
        "outputId": "89500cdc-e690-4807-c96d-045a15a75678"
      },
      "execution_count": null,
      "outputs": [
        {
          "output_type": "stream",
          "name": "stdout",
          "text": [
            "10\n"
          ]
        }
      ]
    },
    {
      "cell_type": "code",
      "source": [
        "Apple = 10\n",
        "apple = 20\n"
      ],
      "metadata": {
        "id": "_UKLx8hCluv1"
      },
      "execution_count": null,
      "outputs": []
    },
    {
      "cell_type": "code",
      "source": [
        "Apple, apple"
      ],
      "metadata": {
        "colab": {
          "base_uri": "https://localhost:8080/"
        },
        "id": "dg25DEhamjvo",
        "outputId": "78e35c9b-eba7-4424-fbfe-18618116003d"
      },
      "execution_count": null,
      "outputs": [
        {
          "output_type": "execute_result",
          "data": {
            "text/plain": [
              "(10, 20)"
            ]
          },
          "metadata": {},
          "execution_count": 10
        }
      ]
    },
    {
      "cell_type": "code",
      "source": [
        "# 변수명앞에 숫자x ex)1hello x"
      ],
      "metadata": {
        "id": "sN5Cw-zJmnav"
      },
      "execution_count": null,
      "outputs": []
    },
    {
      "cell_type": "code",
      "source": [
        "import keyword\n",
        "\n",
        "print(keyword.kwlist)"
      ],
      "metadata": {
        "colab": {
          "base_uri": "https://localhost:8080/"
        },
        "id": "ar_BmxRtneFc",
        "outputId": "a0eef968-36e2-4bc9-8a19-019f75de8af1"
      },
      "execution_count": null,
      "outputs": [
        {
          "output_type": "stream",
          "name": "stdout",
          "text": [
            "['False', 'None', 'True', 'and', 'as', 'assert', 'async', 'await', 'break', 'class', 'continue', 'def', 'del', 'elif', 'else', 'except', 'finally', 'for', 'from', 'global', 'if', 'import', 'in', 'is', 'lambda', 'nonlocal', 'not', 'or', 'pass', 'raise', 'return', 'try', 'while', 'with', 'yield']\n"
          ]
        }
      ]
    },
    {
      "cell_type": "code",
      "source": [
        "'''\n",
        "관습 : 일반변수 앞은 소문자, 스네이크 표기법(띄어쓰기를 언더바(_))\n",
        "'''"
      ],
      "metadata": {
        "colab": {
          "base_uri": "https://localhost:8080/",
          "height": 35
        },
        "id": "5Zl655qDnmHt",
        "outputId": "c278e998-9082-42b6-ebe9-c8104b4eaaf9"
      },
      "execution_count": null,
      "outputs": [
        {
          "output_type": "execute_result",
          "data": {
            "text/plain": [
              "'\\n관습 : 일반변수 앞은 소문자, 스네이크 표기법(띄어쓰기를 언더바(_))\\n'"
            ],
            "application/vnd.google.colaboratory.intrinsic+json": {
              "type": "string"
            }
          },
          "metadata": {},
          "execution_count": 14
        }
      ]
    },
    {
      "cell_type": "code",
      "source": [
        "neme = 'hojun'\n",
        "age = 10\n",
        "\n",
        "print(type(neme))\n",
        "print(type(age))"
      ],
      "metadata": {
        "colab": {
          "base_uri": "https://localhost:8080/"
        },
        "id": "EWTT9mfmojUd",
        "outputId": "078e87ea-225f-4cfa-dc6e-520458e35641"
      },
      "execution_count": null,
      "outputs": [
        {
          "output_type": "stream",
          "name": "stdout",
          "text": [
            "<class 'str'>\n",
            "<class 'int'>\n"
          ]
        }
      ]
    },
    {
      "cell_type": "code",
      "source": [
        "neme + name"
      ],
      "metadata": {
        "colab": {
          "base_uri": "https://localhost:8080/",
          "height": 35
        },
        "id": "1rvTzVtAo6AV",
        "outputId": "ccd38910-9a24-4509-bde2-f1d279df802e"
      },
      "execution_count": null,
      "outputs": [
        {
          "output_type": "execute_result",
          "data": {
            "text/plain": [
              "'hojunseunghoe'"
            ],
            "application/vnd.google.colaboratory.intrinsic+json": {
              "type": "string"
            }
          },
          "metadata": {},
          "execution_count": 16
        }
      ]
    },
    {
      "cell_type": "code",
      "source": [
        "age + age"
      ],
      "metadata": {
        "colab": {
          "base_uri": "https://localhost:8080/"
        },
        "id": "E2WSkLlApOL1",
        "outputId": "7c4fd71b-147b-46a5-8b73-6603880b0cb2"
      },
      "execution_count": null,
      "outputs": [
        {
          "output_type": "execute_result",
          "data": {
            "text/plain": [
              "20"
            ]
          },
          "metadata": {},
          "execution_count": 17
        }
      ]
    },
    {
      "cell_type": "code",
      "source": [
        "# 컴퓨터 입장에서는 두개 모두 2진수"
      ],
      "metadata": {
        "id": "X4cUEJzRpYgU"
      },
      "execution_count": null,
      "outputs": []
    },
    {
      "cell_type": "markdown",
      "source": [],
      "metadata": {
        "id": "i2oRZRBKtJrQ"
      }
    },
    {
      "cell_type": "code",
      "source": [
        "print(type(name))\n",
        "print(dir(name))"
      ],
      "metadata": {
        "colab": {
          "base_uri": "https://localhost:8080/"
        },
        "id": "dRXMRVqGqMJM",
        "outputId": "0126851f-3925-4930-ff3b-fdb80ecaa0fe"
      },
      "execution_count": null,
      "outputs": [
        {
          "output_type": "stream",
          "name": "stdout",
          "text": [
            "<class 'str'>\n",
            "['__add__', '__class__', '__contains__', '__delattr__', '__dir__', '__doc__', '__eq__', '__format__', '__ge__', '__getattribute__', '__getitem__', '__getnewargs__', '__gt__', '__hash__', '__init__', '__init_subclass__', '__iter__', '__le__', '__len__', '__lt__', '__mod__', '__mul__', '__ne__', '__new__', '__reduce__', '__reduce_ex__', '__repr__', '__rmod__', '__rmul__', '__setattr__', '__sizeof__', '__str__', '__subclasshook__', 'capitalize', 'casefold', 'center', 'count', 'encode', 'endswith', 'expandtabs', 'find', 'format', 'format_map', 'index', 'isalnum', 'isalpha', 'isascii', 'isdecimal', 'isdigit', 'isidentifier', 'islower', 'isnumeric', 'isprintable', 'isspace', 'istitle', 'isupper', 'join', 'ljust', 'lower', 'lstrip', 'maketrans', 'partition', 'removeprefix', 'removesuffix', 'replace', 'rfind', 'rindex', 'rjust', 'rpartition', 'rsplit', 'rstrip', 'split', 'splitlines', 'startswith', 'strip', 'swapcase', 'title', 'translate', 'upper', 'zfill']\n"
          ]
        }
      ]
    },
    {
      "cell_type": "code",
      "source": [
        "neme.upper()"
      ],
      "metadata": {
        "colab": {
          "base_uri": "https://localhost:8080/",
          "height": 35
        },
        "id": "WiO3SPYlqvhT",
        "outputId": "a899ced0-c4a4-4d85-f8a5-d39042aff753"
      },
      "execution_count": null,
      "outputs": [
        {
          "output_type": "execute_result",
          "data": {
            "text/plain": [
              "'HOJUN'"
            ],
            "application/vnd.google.colaboratory.intrinsic+json": {
              "type": "string"
            }
          },
          "metadata": {},
          "execution_count": 23
        }
      ]
    },
    {
      "cell_type": "code",
      "source": [
        "a = 10      # int, 정수형\n",
        "b = -1      # int, 정수형\n",
        "c = 0b110   # int, 정수형(2진법)\n",
        "d = 0o56    # int, 정수형(8진법)\n",
        "e = 0xAC    # int, 정수형(16진법)\n",
        "\n",
        "f = 10.1    # float, 실수형\n",
        "\n",
        "g = 10 + 2j # complex, 복소수\n",
        "\n",
        "h = 'good'  # str, 문자열\n",
        "i = '10'    # str, 문자열\n",
        "\n",
        "j = True    # bool, 논리 자료형(부울형)\n",
        "\n",
        "k = None    # NoneType\n",
        "\n",
        "l = [1, 2, 3, 4]       # list, 리스트 자료형\n",
        "m = ['one', 'two']     # list, 리스트 자료형\n",
        "n = (1, 2, 3, 4)       # tuple, 튜플 자료형\n",
        "o = ('one', 'two')     # tuple, 튜플 자료형\n",
        "p = {'one':1, 'two':2} # dict, 딕셔너리 자료형\n",
        "q = {1, 2, 3, 4}       # set, 셋 자료형\n",
        "\n",
        "def r():    # function, 함수\n",
        "    return\n",
        "\n",
        "s = print # bulit-in function\n",
        "t = lambda x:x**2 # function\n",
        "u = int # type\n",
        "\n",
        "class Character: # class, 클래스\n",
        "    pass\n",
        "\n",
        "hero = Character()    # instance\n",
        "Villain = Character() # instance"
      ],
      "metadata": {
        "id": "cAt5ICH9q17k"
      },
      "execution_count": null,
      "outputs": []
    },
    {
      "cell_type": "markdown",
      "source": [
        "# 정수 자료형"
      ],
      "metadata": {
        "id": "iFMELnLXuUnJ"
      }
    },
    {
      "cell_type": "code",
      "source": [
        "x = 10\n",
        "y = 3\n",
        "\n",
        "print(x + y)\n",
        "print(x - y)\n",
        "print(x / y) # float, 실수형으로 반환\n",
        "print(x // y) # int, 정수형으로 반환\n",
        "print(-10 // 3) # 음수를 나눌 때 내림이라는 사실을 기억해주세요.\n",
        "print(x * y)\n",
        "print(x + y)\n",
        "print(4 ** 0.5) # 제곱근, 이렇게 많이 사용합니다.\n",
        "print(x % y) # 나머지, 나머지를 출력합니다.\n"
      ],
      "metadata": {
        "colab": {
          "base_uri": "https://localhost:8080/"
        },
        "id": "AmUAaCJbuzF6",
        "outputId": "6f4a64cc-428f-4c30-ef8b-ad49de852f68"
      },
      "execution_count": null,
      "outputs": [
        {
          "output_type": "stream",
          "name": "stdout",
          "text": [
            "13\n",
            "7\n",
            "3.3333333333333335\n",
            "3\n",
            "30\n",
            "1000\n",
            "1\n"
          ]
        }
      ]
    },
    {
      "cell_type": "code",
      "source": [
        "bin(10) # ''가 있다면 문자열(주의), 2진법 변환 하지만 숫자가 아닌 문자로 준다."
      ],
      "metadata": {
        "colab": {
          "base_uri": "https://localhost:8080/",
          "height": 35
        },
        "id": "3dAA4F_0wlJA",
        "outputId": "57d874a2-f2b0-4cf8-8356-f069333624ac"
      },
      "execution_count": null,
      "outputs": [
        {
          "output_type": "execute_result",
          "data": {
            "text/plain": [
              "'0b1010'"
            ],
            "application/vnd.google.colaboratory.intrinsic+json": {
              "type": "string"
            }
          },
          "metadata": {},
          "execution_count": 2
        }
      ]
    },
    {
      "cell_type": "code",
      "source": [
        "int('0b1010', 2) # 위에 문자열을 숫자로 다시 바꾸어 준다. 10진법으로 바꾸어줌"
      ],
      "metadata": {
        "colab": {
          "base_uri": "https://localhost:8080/"
        },
        "id": "XvXyDvZrxCeY",
        "outputId": "51af3d26-8af8-48e9-8429-e53977d9fe87"
      },
      "execution_count": null,
      "outputs": [
        {
          "output_type": "execute_result",
          "data": {
            "text/plain": [
              "10"
            ]
          },
          "metadata": {},
          "execution_count": 3
        }
      ]
    },
    {
      "cell_type": "code",
      "source": [
        "#진법을 바꿀때 2진법에 가까운 승에 +함"
      ],
      "metadata": {
        "id": "LkV-RK8ixTFX"
      },
      "execution_count": null,
      "outputs": []
    },
    {
      "cell_type": "markdown",
      "source": [
        "# 실수"
      ],
      "metadata": {
        "id": "-VEyAOiV3GHo"
      }
    },
    {
      "cell_type": "code",
      "source": [
        "10.0 - 2 #실수 - 정수 = 실수"
      ],
      "metadata": {
        "colab": {
          "base_uri": "https://localhost:8080/"
        },
        "id": "kZLgG6wjydzY",
        "outputId": "a06b5976-8c0d-4181-83aa-c60a7fec9e65"
      },
      "execution_count": null,
      "outputs": [
        {
          "output_type": "execute_result",
          "data": {
            "text/plain": [
              "8.0"
            ]
          },
          "metadata": {},
          "execution_count": 4
        }
      ]
    },
    {
      "cell_type": "code",
      "source": [
        "10 - 2.0 # 정수 - 실수 = 실수"
      ],
      "metadata": {
        "colab": {
          "base_uri": "https://localhost:8080/"
        },
        "id": "jlU1oPJM3YQJ",
        "outputId": "d838ee46-1aed-4a03-db98-ea266cf4e90e"
      },
      "execution_count": null,
      "outputs": [
        {
          "output_type": "execute_result",
          "data": {
            "text/plain": [
              "8.0"
            ]
          },
          "metadata": {},
          "execution_count": 5
        }
      ]
    },
    {
      "cell_type": "code",
      "source": [
        "float(\"inf\") > 10"
      ],
      "metadata": {
        "colab": {
          "base_uri": "https://localhost:8080/"
        },
        "id": "S5xCyadR3yex",
        "outputId": "a1b38472-f81e-4011-e2a9-7108c7042725"
      },
      "execution_count": null,
      "outputs": [
        {
          "output_type": "execute_result",
          "data": {
            "text/plain": [
              "True"
            ]
          },
          "metadata": {},
          "execution_count": 7
        }
      ]
    },
    {
      "cell_type": "code",
      "source": [
        "-float(\"inf\") < 10"
      ],
      "metadata": {
        "colab": {
          "base_uri": "https://localhost:8080/"
        },
        "id": "mI81BiXW31F6",
        "outputId": "038d72c6-c7c0-48ea-eb96-ca9ab414801d"
      },
      "execution_count": null,
      "outputs": [
        {
          "output_type": "execute_result",
          "data": {
            "text/plain": [
              "True"
            ]
          },
          "metadata": {},
          "execution_count": 8
        }
      ]
    },
    {
      "cell_type": "code",
      "source": [
        "float(\"inf\") * 2\n",
        "float(\"inf\") + 2\n",
        "float(\"inf\") / 2"
      ],
      "metadata": {
        "colab": {
          "base_uri": "https://localhost:8080/"
        },
        "id": "93gabMo735CS",
        "outputId": "488729e2-6f18-49e0-9fcf-c199ec7dc520"
      },
      "execution_count": null,
      "outputs": [
        {
          "output_type": "execute_result",
          "data": {
            "text/plain": [
              "inf"
            ]
          },
          "metadata": {},
          "execution_count": 9
        }
      ]
    },
    {
      "cell_type": "code",
      "source": [
        "float(\"-inf\")\n",
        "-float(\"inf\")"
      ],
      "metadata": {
        "colab": {
          "base_uri": "https://localhost:8080/"
        },
        "id": "UytCYRsp3--0",
        "outputId": "98c381ef-c504-4d93-b409-b603035554d0"
      },
      "execution_count": null,
      "outputs": [
        {
          "output_type": "execute_result",
          "data": {
            "text/plain": [
              "-inf"
            ]
          },
          "metadata": {},
          "execution_count": 10
        }
      ]
    },
    {
      "cell_type": "markdown",
      "source": [
        "# 문자열"
      ],
      "metadata": {
        "id": "k3G_Dvri4kJ4"
      }
    },
    {
      "cell_type": "code",
      "source": [
        "a = 'hello' #'' \"\" 만 기억해놓자\n",
        "b = \"hello\"\n",
        "c = '''hello'''\n",
        "d = \"\"\"hello\"\"\"\n",
        "e = f'hello'\n",
        "f = r'hello'"
      ],
      "metadata": {
        "id": "G_qz1OQ34m4w"
      },
      "execution_count": null,
      "outputs": []
    },
    {
      "cell_type": "code",
      "source": [
        "a[0] # 0을 index라고 부릅니다. 이렇게 값을 호출하는 것을 indexing이라고 합니다. #숫자는 항상 0부터 시작"
      ],
      "metadata": {
        "colab": {
          "base_uri": "https://localhost:8080/",
          "height": 35
        },
        "id": "TMiq_K6q5KIZ",
        "outputId": "0be04814-12da-4eb6-a58b-065e70a29f33"
      },
      "execution_count": null,
      "outputs": [
        {
          "output_type": "execute_result",
          "data": {
            "text/plain": [
              "'h'"
            ],
            "application/vnd.google.colaboratory.intrinsic+json": {
              "type": "string"
            }
          },
          "metadata": {},
          "execution_count": 12
        }
      ]
    },
    {
      "cell_type": "code",
      "source": [
        "(a[0] + a[4]) * 2 # 문자열을 더하면 이어붙이고, 곱하면 반복"
      ],
      "metadata": {
        "colab": {
          "base_uri": "https://localhost:8080/",
          "height": 35
        },
        "id": "Z62O0FOv5d2R",
        "outputId": "da816a32-1884-4785-bed8-3745c82aa7aa"
      },
      "execution_count": null,
      "outputs": [
        {
          "output_type": "execute_result",
          "data": {
            "text/plain": [
              "'hoho'"
            ],
            "application/vnd.google.colaboratory.intrinsic+json": {
              "type": "string"
            }
          },
          "metadata": {},
          "execution_count": 13
        }
      ]
    },
    {
      "cell_type": "code",
      "source": [
        "a[-1] # 실제로 연산될 때에는 음수를 양수로 전환한 후에 연산이 이뤄집니다. # a[-1] = a[4]\n"
      ],
      "metadata": {
        "colab": {
          "base_uri": "https://localhost:8080/",
          "height": 35
        },
        "id": "WOGsjrdz55lx",
        "outputId": "13ea6a15-9b54-401e-f372-281d298d33b2"
      },
      "execution_count": null,
      "outputs": [
        {
          "output_type": "execute_result",
          "data": {
            "text/plain": [
              "'o'"
            ],
            "application/vnd.google.colaboratory.intrinsic+json": {
              "type": "string"
            }
          },
          "metadata": {},
          "execution_count": 14
        }
      ]
    },
    {
      "cell_type": "code",
      "source": [
        "a[100]"
      ],
      "metadata": {
        "colab": {
          "base_uri": "https://localhost:8080/",
          "height": 147
        },
        "id": "lF3CIbEM6QxB",
        "outputId": "534b891f-4b00-472d-c214-bb23d4c8ebaf"
      },
      "execution_count": null,
      "outputs": [
        {
          "output_type": "error",
          "ename": "IndexError",
          "evalue": "string index out of range",
          "traceback": [
            "\u001b[0;31m---------------------------------------------------------------------------\u001b[0m",
            "\u001b[0;31mIndexError\u001b[0m                                Traceback (most recent call last)",
            "\u001b[0;32m<ipython-input-15-cd7724b6c85f>\u001b[0m in \u001b[0;36m<cell line: 1>\u001b[0;34m()\u001b[0m\n\u001b[0;32m----> 1\u001b[0;31m \u001b[0ma\u001b[0m\u001b[0;34m[\u001b[0m\u001b[0;36m100\u001b[0m\u001b[0;34m]\u001b[0m\u001b[0;34m\u001b[0m\u001b[0;34m\u001b[0m\u001b[0m\n\u001b[0m",
            "\u001b[0;31mIndexError\u001b[0m: string index out of range"
          ]
        }
      ]
    },
    {
      "cell_type": "code",
      "source": [
        "s = 'hello world' #시험문제\n",
        "s[0] + s[1] + s[2] + s[3] + s[4]"
      ],
      "metadata": {
        "colab": {
          "base_uri": "https://localhost:8080/",
          "height": 35
        },
        "id": "b-0_GCch6cEo",
        "outputId": "87dc308a-d501-4338-ca4b-599c8f35044d"
      },
      "execution_count": null,
      "outputs": [
        {
          "output_type": "execute_result",
          "data": {
            "text/plain": [
              "'hello'"
            ],
            "application/vnd.google.colaboratory.intrinsic+json": {
              "type": "string"
            }
          },
          "metadata": {},
          "execution_count": 16
        }
      ]
    },
    {
      "cell_type": "code",
      "source": [
        "# 위 처럼 어디서부터 어디까지의 문자열을 잘라내고 싶을 때\n",
        "# 슬라이싱을 사용할 수 있습니다.\n",
        "# 변수명[start:stop:step] ex) s[1:11:2]"
      ],
      "metadata": {
        "id": "JjhOai8B7Dp4"
      },
      "execution_count": null,
      "outputs": []
    },
    {
      "cell_type": "code",
      "source": [
        "s = 'hello world'\n",
        "s[0:5]"
      ],
      "metadata": {
        "colab": {
          "base_uri": "https://localhost:8080/",
          "height": 35
        },
        "id": "a8CklEja7SCI",
        "outputId": "da18f057-125d-4d51-abfa-7ac32485683c"
      },
      "execution_count": null,
      "outputs": [
        {
          "output_type": "execute_result",
          "data": {
            "text/plain": [
              "'hello'"
            ],
            "application/vnd.google.colaboratory.intrinsic+json": {
              "type": "string"
            }
          },
          "metadata": {},
          "execution_count": 17
        }
      ]
    },
    {
      "cell_type": "code",
      "source": [
        "s = 'hello world'\n",
        "s[6:11]\n",
        "s[6:12]\n",
        "s[6:13]\n",
        "s[6:14]\n",
        "# 슬레이싱은 범위가 벗어나더라도 에러가 나지 않음\n",
        "s[6:] # 보통은 마지막까지면 stop값을 생략합니다. ,처음도 생략이 가능하다 ex)s[:] (처음부터 마지막)\n",
        "s[:5] # hello\n",
        "s[::2] # 이런 코드는 실무에서 자주 사용하지 않음\n",
        "s[::-1] # 많이 사용 , 역순\n",
        "s[6:0:-1] # 거의 사용 안함"
      ],
      "metadata": {
        "colab": {
          "base_uri": "https://localhost:8080/",
          "height": 35
        },
        "id": "LtCMalrN7jf2",
        "outputId": "20005b05-62c1-4c12-f7d5-5885566f3542"
      },
      "execution_count": null,
      "outputs": [
        {
          "output_type": "execute_result",
          "data": {
            "text/plain": [
              "'w olle'"
            ],
            "application/vnd.google.colaboratory.intrinsic+json": {
              "type": "string"
            }
          },
          "metadata": {},
          "execution_count": 22
        }
      ]
    },
    {
      "cell_type": "code",
      "source": [
        "#연습문제\n",
        "#a, jpg, abc,png, abcd,mp4 이런 값들이 들어왔을때 확장자를 알아내는 코드를 작성하시오. 단 확장자는 3자리로 고정합니다(jpg, png, ap4 등)\n",
        "\n",
        "s = 'hello.jpg' #슬라이싱을 이용해 확장자를 구하시오\n",
        "s[-3:]"
      ],
      "metadata": {
        "colab": {
          "base_uri": "https://localhost:8080/",
          "height": 35
        },
        "id": "fnjZaCbz9gAJ",
        "outputId": "d65b7431-efc9-49c9-ee43-c95fb354dfb5"
      },
      "execution_count": null,
      "outputs": [
        {
          "output_type": "execute_result",
          "data": {
            "text/plain": [
              "'jpg'"
            ],
            "application/vnd.google.colaboratory.intrinsic+json": {
              "type": "string"
            }
          },
          "metadata": {},
          "execution_count": 24
        }
      ]
    },
    {
      "cell_type": "code",
      "source": [
        "# 문자열 메서드 #편의기능\n",
        "s = 'hello'\n",
        "dir('s') #capitalize부터 외우자"
      ],
      "metadata": {
        "id": "DxHFhHeW_0qh"
      },
      "execution_count": null,
      "outputs": []
    },
    {
      "cell_type": "code",
      "source": [
        "s = 'Hello World'\n",
        "s.upper() #대문자로 바꾸기"
      ],
      "metadata": {
        "colab": {
          "base_uri": "https://localhost:8080/",
          "height": 35
        },
        "id": "Pxnh6dBXBCG-",
        "outputId": "2fa7056d-9803-4196-9c77-51c13b1eec26"
      },
      "execution_count": null,
      "outputs": [
        {
          "output_type": "execute_result",
          "data": {
            "text/plain": [
              "'HELLO WORLD'"
            ],
            "application/vnd.google.colaboratory.intrinsic+json": {
              "type": "string"
            }
          },
          "metadata": {},
          "execution_count": 26
        }
      ]
    },
    {
      "cell_type": "code",
      "source": [
        "s.lower() #소문자로 바꾸"
      ],
      "metadata": {
        "colab": {
          "base_uri": "https://localhost:8080/",
          "height": 35
        },
        "id": "621IbzloBgwB",
        "outputId": "38e6ef4a-2e00-4892-d4c6-e1bbded1466f"
      },
      "execution_count": null,
      "outputs": [
        {
          "output_type": "execute_result",
          "data": {
            "text/plain": [
              "'hello world'"
            ],
            "application/vnd.google.colaboratory.intrinsic+json": {
              "type": "string"
            }
          },
          "metadata": {},
          "execution_count": 27
        }
      ]
    },
    {
      "cell_type": "code",
      "source": [
        "# 필수로 알아야하는 메서드 목록\n",
        "# count\n",
        "# find\n",
        "# index\n",
        "# format\n",
        "# isdigit\n",
        "# join\n",
        "# replace\n",
        "# split\n",
        "# strip\n",
        "# zfil"
      ],
      "metadata": {
        "id": "OCHbseSBbQ9O"
      },
      "execution_count": null,
      "outputs": []
    },
    {
      "cell_type": "code",
      "source": [
        "# count\n",
        "'112233344'.count('1')\n",
        "# '123123'. count(1) X"
      ],
      "metadata": {
        "colab": {
          "base_uri": "https://localhost:8080/"
        },
        "id": "6X2kHspDb2p-",
        "outputId": "92e22470-7ce8-4625-9e0d-e3fbc30fe481"
      },
      "execution_count": null,
      "outputs": [
        {
          "output_type": "execute_result",
          "data": {
            "text/plain": [
              "2"
            ]
          },
          "metadata": {},
          "execution_count": 9
        }
      ]
    },
    {
      "cell_type": "code",
      "source": [
        "l = [1, 2, 3, 4, 5, 6, 7, 8, 9, 10, 11, 12]\n",
        "str(l).count('1')\n",
        "\n",
        "str(list(range(10000))).count('8')"
      ],
      "metadata": {
        "colab": {
          "base_uri": "https://localhost:8080/"
        },
        "id": "Z7GYUgrqcAxu",
        "outputId": "770856f0-c261-497a-9099-e1107a213bdb"
      },
      "execution_count": null,
      "outputs": [
        {
          "output_type": "execute_result",
          "data": {
            "text/plain": [
              "4000"
            ]
          },
          "metadata": {},
          "execution_count": 11
        }
      ]
    },
    {
      "cell_type": "code",
      "source": [
        "'hello world hello'.find('world')\n",
        "# 'hello world hello'.find('hi') , 못찾으면 -1\n",
        "\n",
        "# 나아가기\n",
        "s = 'abcde'\n",
        "if s.find('hi'):\n",
        "    print(s[s.find(\"hi\")], '찾았다!')"
      ],
      "metadata": {
        "colab": {
          "base_uri": "https://localhost:8080/"
        },
        "id": "3SMqUm8ddkzx",
        "outputId": "109de9e6-9e1f-47e6-97ec-4c1e9d1fbe5b"
      },
      "execution_count": null,
      "outputs": [
        {
          "output_type": "stream",
          "name": "stdout",
          "text": [
            "e 찾았다!\n"
          ]
        }
      ]
    },
    {
      "cell_type": "code",
      "source": [
        "'hello world hello'.index('world')\n",
        "# 'hello world hello'.index(\"hi\") X"
      ],
      "metadata": {
        "colab": {
          "base_uri": "https://localhost:8080/"
        },
        "id": "15d_qeTqf7NG",
        "outputId": "a96fb2b7-9e93-4ec2-d2eb-582726936001"
      },
      "execution_count": null,
      "outputs": [
        {
          "output_type": "execute_result",
          "data": {
            "text/plain": [
              "6"
            ]
          },
          "metadata": {},
          "execution_count": 18
        }
      ]
    },
    {
      "cell_type": "code",
      "source": [
        "'제 이름은 이호준 입니다. 제 나이는 10살 입니다.'\n",
        "\n",
        "# name = '이호준'\n",
        "name = '김승회'\n",
        "age = 10\n",
        "\n",
        "'제 이름은 {} 입니다. 제 나이는 {}살 입니다.'.format(name, age)\n",
        "'제 이름은 {0} 입니다. 제 나이는 {0}살 입니다.'.format(name, age)\n",
        "'제 이름은 {1} 입니다. 제 나이는 {1}살 입니다.'.format(name, age)"
      ],
      "metadata": {
        "colab": {
          "base_uri": "https://localhost:8080/",
          "height": 35
        },
        "id": "ihS_BLyAhd_n",
        "outputId": "783e0593-ec26-4a30-c1f1-b6ebd0f97b5b"
      },
      "execution_count": null,
      "outputs": [
        {
          "output_type": "execute_result",
          "data": {
            "text/plain": [
              "'제 이름은 10 입니다. 제 나이는 10살 입니다.'"
            ],
            "application/vnd.google.colaboratory.intrinsic+json": {
              "type": "string"
            }
          },
          "metadata": {},
          "execution_count": 23
        }
      ]
    },
    {
      "cell_type": "code",
      "source": [
        "# f-string 용법(3.6에서 나온 문법입니다.)\n",
        "f'제 이름은 {name} 입니다. 제 나이는 {age} 입니다.'"
      ],
      "metadata": {
        "colab": {
          "base_uri": "https://localhost:8080/",
          "height": 35
        },
        "id": "nc3Cpg6Dh2mv",
        "outputId": "7f1ba5f8-51e1-4247-f42d-08bf7d0d5e61"
      },
      "execution_count": null,
      "outputs": [
        {
          "output_type": "execute_result",
          "data": {
            "text/plain": [
              "'제 이름은 김승회 입니다. 제 나이는 10 입니다.'"
            ],
            "application/vnd.google.colaboratory.intrinsic+json": {
              "type": "string"
            }
          },
          "metadata": {},
          "execution_count": 24
        }
      ]
    },
    {
      "cell_type": "code",
      "source": [
        "'123'.isdigit()\n",
        "'12a3'.isdigit()\n",
        "\n",
        "# int('123') ==> 123\n",
        "# int('12a3') ==> error"
      ],
      "metadata": {
        "id": "3KfbfDRHljXQ"
      },
      "execution_count": null,
      "outputs": []
    },
    {
      "cell_type": "code",
      "source": [
        "# join\n",
        "# replace\n",
        "# split\n",
        "# strip\n",
        "# zfill"
      ],
      "metadata": {
        "id": "CUcBVFxll2N4"
      },
      "execution_count": null,
      "outputs": []
    },
    {
      "cell_type": "code",
      "source": [
        "'!'.join(['010', '5044', '2903'])\n",
        "\n",
        "'-'.join(['010', '5044', '2903'])\n",
        "\n",
        "# 나아가기\n",
        "# '.'.join('hello') # join(순회 가능한 객체)"
      ],
      "metadata": {
        "colab": {
          "base_uri": "https://localhost:8080/",
          "height": 35
        },
        "id": "EEKomiGbl_Bw",
        "outputId": "9addeda3-2f83-40a2-88de-a1d0abe3a3d8"
      },
      "execution_count": null,
      "outputs": [
        {
          "output_type": "execute_result",
          "data": {
            "text/plain": [
              "'010-5044-2903'"
            ],
            "application/vnd.google.colaboratory.intrinsic+json": {
              "type": "string"
            }
          },
          "metadata": {},
          "execution_count": 26
        }
      ]
    },
    {
      "cell_type": "code",
      "source": [
        "'010.5044.2903'.split('.') #괄호안을 기준으로 잘라내줌"
      ],
      "metadata": {
        "colab": {
          "base_uri": "https://localhost:8080/"
        },
        "id": "xPEpW-FtmiqR",
        "outputId": "c4716c14-8144-4163-9aa3-54156be1b7c0"
      },
      "execution_count": null,
      "outputs": [
        {
          "output_type": "execute_result",
          "data": {
            "text/plain": [
              "['010', '5044', '2903']"
            ]
          },
          "metadata": {},
          "execution_count": 29
        }
      ]
    },
    {
      "cell_type": "code",
      "source": [
        "# 나아가기\n",
        "'-'.join('010.5044.2903'.split('.'))"
      ],
      "metadata": {
        "colab": {
          "base_uri": "https://localhost:8080/",
          "height": 35
        },
        "id": "rkKk48pFm5og",
        "outputId": "7cf99e8e-bf10-43b9-8c58-0b62efafc023"
      },
      "execution_count": null,
      "outputs": [
        {
          "output_type": "execute_result",
          "data": {
            "text/plain": [
              "'010-5044-2903'"
            ],
            "application/vnd.google.colaboratory.intrinsic+json": {
              "type": "string"
            }
          },
          "metadata": {},
          "execution_count": 32
        }
      ]
    },
    {
      "cell_type": "code",
      "source": [
        "'hello world'.replace('hello', 'hi')"
      ],
      "metadata": {
        "colab": {
          "base_uri": "https://localhost:8080/",
          "height": 35
        },
        "id": "6ZApDBZvnWuR",
        "outputId": "859a146d-bd42-4f78-ad4d-a13c56f08307"
      },
      "execution_count": null,
      "outputs": [
        {
          "output_type": "execute_result",
          "data": {
            "text/plain": [
              "'hi world'"
            ],
            "application/vnd.google.colaboratory.intrinsic+json": {
              "type": "string"
            }
          },
          "metadata": {},
          "execution_count": 34
        }
      ]
    },
    {
      "cell_type": "code",
      "source": [
        "# 1은 #으로 바꾸고 0은 공백으로 바꾸세요!\n",
        "text = '101010'.replace('1', '#')\n",
        "text = text.replace('0', ' ')\n",
        "text"
      ],
      "metadata": {
        "colab": {
          "base_uri": "https://localhost:8080/",
          "height": 35
        },
        "id": "FahIf4tvn6Bx",
        "outputId": "237539a9-f80a-435c-e507-57f6e9f334e0"
      },
      "execution_count": null,
      "outputs": [
        {
          "output_type": "execute_result",
          "data": {
            "text/plain": [
              "'# # # '"
            ],
            "application/vnd.google.colaboratory.intrinsic+json": {
              "type": "string"
            }
          },
          "metadata": {},
          "execution_count": 38
        }
      ]
    },
    {
      "cell_type": "code",
      "source": [
        "# 보통 메서드 체이닝을 사용합니다\n",
        "'101010'.replace('1', '#').replace('0', ' ')\n",
        "# replace은 연속사용 가능"
      ],
      "metadata": {
        "colab": {
          "base_uri": "https://localhost:8080/",
          "height": 35
        },
        "id": "8jR8Tc7soRe4",
        "outputId": "61c6d748-8c44-4bc5-cedf-aad5633c94a4"
      },
      "execution_count": null,
      "outputs": [
        {
          "output_type": "execute_result",
          "data": {
            "text/plain": [
              "'# # # '"
            ],
            "application/vnd.google.colaboratory.intrinsic+json": {
              "type": "string"
            }
          },
          "metadata": {},
          "execution_count": 45
        }
      ]
    },
    {
      "cell_type": "code",
      "source": [
        "# strip은 공백 제거\n",
        "'         hello        '.strip()\n",
        "'    hello world      '.strip()\n",
        "# 공백 제거로 replace 사용 x"
      ],
      "metadata": {
        "colab": {
          "base_uri": "https://localhost:8080/",
          "height": 35
        },
        "id": "25v2u7RPpFPp",
        "outputId": "7a0c8e89-8468-4084-94b0-f93a8a8f274b"
      },
      "execution_count": null,
      "outputs": [
        {
          "output_type": "execute_result",
          "data": {
            "text/plain": [
              "'hello world'"
            ],
            "application/vnd.google.colaboratory.intrinsic+json": {
              "type": "string"
            }
          },
          "metadata": {},
          "execution_count": 47
        }
      ]
    },
    {
      "cell_type": "code",
      "source": [
        "'3'.zfill(10) # 숫자나 날짜 표기할 때 많이 사용합니다."
      ],
      "metadata": {
        "colab": {
          "base_uri": "https://localhost:8080/",
          "height": 35
        },
        "id": "1kSe9XxYpfXR",
        "outputId": "c2fcf542-5dca-4bad-d67c-d79f2f1464d5"
      },
      "execution_count": null,
      "outputs": [
        {
          "output_type": "execute_result",
          "data": {
            "text/plain": [
              "'0000000003'"
            ],
            "application/vnd.google.colaboratory.intrinsic+json": {
              "type": "string"
            }
          },
          "metadata": {},
          "execution_count": 50
        }
      ]
    },
    {
      "cell_type": "code",
      "source": [
        "# '24/03/18' 이렇게 되어 있는 문자를 '24-03-18'로 바꿔 주세요.\n",
        "\n",
        "'24/3/18'.replace('/', '-').replace('3', '3'.zfill(2))\n",
        "# 좋은 정답은 아닙니다.\n",
        "# 나중에 리스트도 배우고, 반복문도 배우면 좋은 정답을 사용하실 수 있습니다.\n"
      ],
      "metadata": {
        "colab": {
          "base_uri": "https://localhost:8080/",
          "height": 35
        },
        "id": "e-dLi6fGqyAy",
        "outputId": "98a8de51-9843-4260-87f4-350d4689b53a"
      },
      "execution_count": null,
      "outputs": [
        {
          "output_type": "execute_result",
          "data": {
            "text/plain": [
              "'24-03-18'"
            ],
            "application/vnd.google.colaboratory.intrinsic+json": {
              "type": "string"
            }
          },
          "metadata": {},
          "execution_count": 54
        }
      ]
    },
    {
      "cell_type": "markdown",
      "source": [
        "# 논리 자료형"
      ],
      "metadata": {
        "id": "pz03Kt3osXbL"
      }
    },
    {
      "cell_type": "code",
      "source": [
        "True\n",
        "False\n",
        "type(True)"
      ],
      "metadata": {
        "colab": {
          "base_uri": "https://localhost:8080/"
        },
        "id": "j0t4BFYMriEp",
        "outputId": "ccfaf3bb-c4df-4978-f997-d2cfa7867a40"
      },
      "execution_count": null,
      "outputs": [
        {
          "output_type": "execute_result",
          "data": {
            "text/plain": [
              "bool"
            ]
          },
          "metadata": {},
          "execution_count": 55
        }
      ]
    },
    {
      "cell_type": "code",
      "source": [
        "# 형변환\n",
        "int('10')\n",
        "int(10.1)\n",
        "\n",
        "type(10)"
      ],
      "metadata": {
        "colab": {
          "base_uri": "https://localhost:8080/"
        },
        "id": "ir1NVK4bsph5",
        "outputId": "5d0c7b2e-db62-4db3-ab84-7235ab9f7e53"
      },
      "execution_count": null,
      "outputs": [
        {
          "output_type": "execute_result",
          "data": {
            "text/plain": [
              "int"
            ]
          },
          "metadata": {},
          "execution_count": 57
        }
      ]
    },
    {
      "cell_type": "code",
      "source": [
        "True == 1"
      ],
      "metadata": {
        "colab": {
          "base_uri": "https://localhost:8080/"
        },
        "id": "ZnRYws_Nszra",
        "outputId": "19a5b4a1-496f-45c9-c2e5-3cc945983827"
      },
      "execution_count": null,
      "outputs": [
        {
          "output_type": "execute_result",
          "data": {
            "text/plain": [
              "True"
            ]
          },
          "metadata": {},
          "execution_count": 58
        }
      ]
    },
    {
      "cell_type": "code",
      "source": [
        "False == 0"
      ],
      "metadata": {
        "colab": {
          "base_uri": "https://localhost:8080/"
        },
        "id": "lqqPZSZQs24r",
        "outputId": "4578abf5-4076-41e7-b75f-8d4961c17e92"
      },
      "execution_count": null,
      "outputs": [
        {
          "output_type": "execute_result",
          "data": {
            "text/plain": [
              "True"
            ]
          },
          "metadata": {},
          "execution_count": 59
        }
      ]
    },
    {
      "cell_type": "code",
      "source": [
        "# 비교연산\n",
        "a = 10\n",
        "b = 3\n",
        "\n",
        "print(a > b)\n",
        "print(a >= b)\n",
        "print(a <= b)\n",
        "print(a < b)\n",
        "print(a == b)\n",
        "print(a != b) # != 주의 a가 b랑 다르다"
      ],
      "metadata": {
        "colab": {
          "base_uri": "https://localhost:8080/"
        },
        "id": "9yIEmj6ltDzq",
        "outputId": "99d2dcbb-c9fc-459e-e172-0f45c95c1449"
      },
      "execution_count": null,
      "outputs": [
        {
          "output_type": "stream",
          "name": "stdout",
          "text": [
            "True\n",
            "True\n",
            "False\n",
            "False\n",
            "False\n",
            "True\n"
          ]
        }
      ]
    },
    {
      "cell_type": "code",
      "source": [
        "# and 논리 곱\n",
        "# or 논리 합\n",
        "# not 부정\n",
        "\n",
        "print(True and False)\n",
        "print(False and True)\n",
        "print(False and False)\n",
        "print(True and True)"
      ],
      "metadata": {
        "colab": {
          "base_uri": "https://localhost:8080/"
        },
        "id": "8y5HRI00umgK",
        "outputId": "275c8d99-4178-42a3-e18b-02d3c19f0ec9"
      },
      "execution_count": null,
      "outputs": [
        {
          "output_type": "stream",
          "name": "stdout",
          "text": [
            "False\n",
            "False\n",
            "False\n",
            "True\n"
          ]
        }
      ]
    },
    {
      "cell_type": "code",
      "source": [
        "print(True or False)\n",
        "print(False or True)\n",
        "print(False or False)\n",
        "print(True or True)"
      ],
      "metadata": {
        "colab": {
          "base_uri": "https://localhost:8080/"
        },
        "id": "y6MRAwxwvoGD",
        "outputId": "0b2041d7-95eb-4902-f8f2-e18bff3defd4"
      },
      "execution_count": null,
      "outputs": [
        {
          "output_type": "stream",
          "name": "stdout",
          "text": [
            "True\n",
            "True\n",
            "False\n",
            "True\n"
          ]
        }
      ]
    },
    {
      "cell_type": "code",
      "source": [
        "# and or 활용\n",
        "#for i in range(100):\n",
        " #       print(i)\n",
        "\n",
        "for i in range(100):\n",
        "    if i % 3 == 0 and i % 5 == 0:\n",
        "        print(i)"
      ],
      "metadata": {
        "colab": {
          "base_uri": "https://localhost:8080/"
        },
        "id": "apA5S9Jnv85C",
        "outputId": "e3f649e4-963e-4daa-f3a6-9cf7832eccdc"
      },
      "execution_count": null,
      "outputs": [
        {
          "output_type": "stream",
          "name": "stdout",
          "text": [
            "0\n",
            "15\n",
            "30\n",
            "45\n",
            "60\n",
            "75\n",
            "90\n"
          ]
        }
      ]
    },
    {
      "cell_type": "code",
      "source": [
        "not True"
      ],
      "metadata": {
        "colab": {
          "base_uri": "https://localhost:8080/"
        },
        "id": "Yb2U7x9Vwwdr",
        "outputId": "ec814e39-62ed-4e3a-f36f-c6c869313614"
      },
      "execution_count": null,
      "outputs": [
        {
          "output_type": "execute_result",
          "data": {
            "text/plain": [
              "False"
            ]
          },
          "metadata": {},
          "execution_count": 67
        }
      ]
    },
    {
      "cell_type": "code",
      "source": [
        "not False"
      ],
      "metadata": {
        "colab": {
          "base_uri": "https://localhost:8080/"
        },
        "id": "hAVpfdx9wyip",
        "outputId": "5147f229-b9fe-4169-fa01-9f2726c5d6eb"
      },
      "execution_count": null,
      "outputs": [
        {
          "output_type": "execute_result",
          "data": {
            "text/plain": [
              "True"
            ]
          },
          "metadata": {},
          "execution_count": 68
        }
      ]
    },
    {
      "cell_type": "code",
      "source": [
        "print(bool(0))\n",
        "print(bool(100))\n",
        "print(bool(-1))\n",
        "print(bool('hello'))\n",
        "print(bool(''))"
      ],
      "metadata": {
        "colab": {
          "base_uri": "https://localhost:8080/"
        },
        "id": "yhJ_rYbWw04z",
        "outputId": "f76be5a2-b237-495a-800f-cdbb830d3296"
      },
      "execution_count": null,
      "outputs": [
        {
          "output_type": "stream",
          "name": "stdout",
          "text": [
            "False\n",
            "True\n",
            "True\n",
            "True\n",
            "False\n"
          ]
        }
      ]
    },
    {
      "cell_type": "markdown",
      "source": [
        "\n",
        "# None 자료형"
      ],
      "metadata": {
        "id": "W9Y1TqR2u9O5"
      }
    },
    {
      "cell_type": "code",
      "source": [
        "# 비어있음을 명시적으로 나타내는 자료형\n",
        "x = None\n",
        "x # 출력하지 않습니다."
      ],
      "metadata": {
        "id": "0F9ThSogu_xA"
      },
      "execution_count": null,
      "outputs": []
    },
    {
      "cell_type": "code",
      "source": [
        "print(x)"
      ],
      "metadata": {
        "colab": {
          "base_uri": "https://localhost:8080/"
        },
        "id": "DoGRW6pYvHCD",
        "outputId": "88dce01d-409b-42d4-c796-0be9f19166f9"
      },
      "execution_count": null,
      "outputs": [
        {
          "output_type": "stream",
          "name": "stdout",
          "text": [
            "None\n"
          ]
        }
      ]
    },
    {
      "cell_type": "markdown",
      "source": [
        "# 메서드 채이닝"
      ],
      "metadata": {
        "id": "vYnkiRzVvTV7"
      }
    },
    {
      "cell_type": "code",
      "source": [
        "'hello world'.replace('hello', 'hi')"
      ],
      "metadata": {
        "colab": {
          "base_uri": "https://localhost:8080/",
          "height": 35
        },
        "id": "CdR_CBg2vZMy",
        "outputId": "454940ed-968e-4df5-8109-48b366b87921"
      },
      "execution_count": null,
      "outputs": [
        {
          "output_type": "execute_result",
          "data": {
            "text/plain": [
              "'hi world'"
            ],
            "application/vnd.google.colaboratory.intrinsic+json": {
              "type": "string"
            }
          },
          "metadata": {},
          "execution_count": 4
        }
      ]
    },
    {
      "cell_type": "code",
      "source": [
        "'hello world'.replace('hello', 'hi')\n",
        "'hello world'.replace('hello', 'hi').replace('world', 'jeju')"
      ],
      "metadata": {
        "colab": {
          "base_uri": "https://localhost:8080/",
          "height": 35
        },
        "id": "JEI6h5AtvgaD",
        "outputId": "6cefa6aa-3ee8-437e-eac6-00f03da0fa8e"
      },
      "execution_count": null,
      "outputs": [
        {
          "output_type": "execute_result",
          "data": {
            "text/plain": [
              "'hi jeju'"
            ],
            "application/vnd.google.colaboratory.intrinsic+json": {
              "type": "string"
            }
          },
          "metadata": {},
          "execution_count": 5
        }
      ]
    },
    {
      "cell_type": "code",
      "source": [
        "# 메서드 채이닝의 주의! =>\n",
        "# 처음의 값 'hello world'이 값에 메서드를 연속해서 쓰는 것이 아니라\n",
        "# 각 메서드의 반환값을 연속해서 씁니다."
      ],
      "metadata": {
        "id": "_LR4ih6ZvtKR"
      },
      "execution_count": null,
      "outputs": []
    },
    {
      "cell_type": "code",
      "source": [
        "# 'hello world'.split(' ').replace('hi', 'world')\n",
        "# 위와 같은 코드는 error입니다"
      ],
      "metadata": {
        "id": "mLeX4_mBv41C"
      },
      "execution_count": null,
      "outputs": []
    },
    {
      "cell_type": "code",
      "source": [
        "'hello world'.replace('hi', 'world').replace('hi', 'world').replace('hi', 'world')"
      ],
      "metadata": {
        "id": "gb-OoH5LwDw7"
      },
      "execution_count": null,
      "outputs": []
    },
    {
      "cell_type": "markdown",
      "source": [
        "# 형 변환"
      ],
      "metadata": {
        "id": "nuoyGzBlxtt8"
      }
    },
    {
      "cell_type": "code",
      "source": [
        "x = 10\n",
        "y = '10'\n",
        "\n",
        "x + y"
      ],
      "metadata": {
        "id": "oTiF3YCCxwkb"
      },
      "execution_count": null,
      "outputs": []
    },
    {
      "cell_type": "code",
      "source": [
        "x + int(y)"
      ],
      "metadata": {
        "colab": {
          "base_uri": "https://localhost:8080/"
        },
        "id": "s_hlggGFx7AC",
        "outputId": "b4783a82-b4a4-4bd0-9bd3-5090c91781d5"
      },
      "execution_count": null,
      "outputs": [
        {
          "output_type": "execute_result",
          "data": {
            "text/plain": [
              "20"
            ]
          },
          "metadata": {},
          "execution_count": 8
        }
      ]
    },
    {
      "cell_type": "code",
      "source": [
        "str(x) + y"
      ],
      "metadata": {
        "colab": {
          "base_uri": "https://localhost:8080/",
          "height": 35
        },
        "id": "v0eZ7fVjx_QC",
        "outputId": "a0421c27-b0ea-440f-cca4-61dd2e47be87"
      },
      "execution_count": null,
      "outputs": [
        {
          "output_type": "execute_result",
          "data": {
            "text/plain": [
              "'1010'"
            ],
            "application/vnd.google.colaboratory.intrinsic+json": {
              "type": "string"
            }
          },
          "metadata": {},
          "execution_count": 9
        }
      ]
    },
    {
      "cell_type": "code",
      "source": [
        "'''\n",
        "Built-in Function\t기능\n",
        "int()\t정수로 변환\n",
        "str()\t문자열로 변환\n",
        "float()\t실수로 변환\n",
        "list()\t리스트로 변환\n",
        "tuple()\t튜플로 변환\n",
        "dict()\t딕셔너리로 변환\n",
        "set()\t셋으로 변환\n",
        "'''"
      ],
      "metadata": {
        "id": "xO_gbe-3yCxr"
      },
      "execution_count": null,
      "outputs": []
    },
    {
      "cell_type": "code",
      "source": [
        "int(10.3) + 1000"
      ],
      "metadata": {
        "colab": {
          "base_uri": "https://localhost:8080/"
        },
        "id": "5429RieeyOOi",
        "outputId": "0a0f884b-ae50-430b-dfb0-e99328a57a0b"
      },
      "execution_count": null,
      "outputs": [
        {
          "output_type": "execute_result",
          "data": {
            "text/plain": [
              "1010"
            ]
          },
          "metadata": {},
          "execution_count": 11
        }
      ]
    },
    {
      "cell_type": "markdown",
      "source": [
        "# 할당 연산"
      ],
      "metadata": {
        "id": "8hLoHMBszG6G"
      }
    },
    {
      "cell_type": "code",
      "source": [
        "# 비교연산, 논리연산, 산술연산 모두 진행했습니다.\n",
        "# 연산자 우선순위 시험에 나옴\n",
        "# 산술연산 > 비교연산 > 논리연산"
      ],
      "metadata": {
        "id": "eOaDO3sJzIzO"
      },
      "execution_count": null,
      "outputs": []
    },
    {
      "cell_type": "code",
      "source": [
        "a = 10\n",
        "a = a + 10\n",
        "a"
      ],
      "metadata": {
        "colab": {
          "base_uri": "https://localhost:8080/"
        },
        "id": "gKoxM80czMw5",
        "outputId": "10d9d805-4b62-40c7-b08b-5a9af479fc93"
      },
      "execution_count": null,
      "outputs": [
        {
          "output_type": "execute_result",
          "data": {
            "text/plain": [
              "20"
            ]
          },
          "metadata": {},
          "execution_count": 13
        }
      ]
    },
    {
      "cell_type": "code",
      "source": [
        "a = 10\n",
        "a += 10 # a = a + 10\n",
        "a"
      ],
      "metadata": {
        "colab": {
          "base_uri": "https://localhost:8080/"
        },
        "id": "dOAMQjClzb5D",
        "outputId": "a7d502d9-4a6d-4d4f-a4b6-58fdbbc669b3"
      },
      "execution_count": null,
      "outputs": [
        {
          "output_type": "execute_result",
          "data": {
            "text/plain": [
              "20"
            ]
          },
          "metadata": {},
          "execution_count": 14
        }
      ]
    },
    {
      "cell_type": "markdown",
      "source": [
        "# 식별연산\n"
      ],
      "metadata": {
        "id": "Uf8nJIv41Arr"
      }
    },
    {
      "cell_type": "code",
      "source": [
        "x = 10\n",
        "y = x\n",
        "\n",
        "x is y\n",
        "\n",
        "True"
      ],
      "metadata": {
        "colab": {
          "base_uri": "https://localhost:8080/"
        },
        "id": "p1QPR_Yo1CwL",
        "outputId": "14358639-054c-4988-8e9f-4e849c5a8306"
      },
      "execution_count": null,
      "outputs": [
        {
          "output_type": "execute_result",
          "data": {
            "text/plain": [
              "True"
            ]
          },
          "metadata": {},
          "execution_count": 16
        }
      ]
    },
    {
      "cell_type": "code",
      "source": [
        "id(x) == id(y)"
      ],
      "metadata": {
        "colab": {
          "base_uri": "https://localhost:8080/"
        },
        "id": "JQIC0Cpl1KmT",
        "outputId": "2eff87e5-e00a-4d62-d168-d273607225d6"
      },
      "execution_count": null,
      "outputs": [
        {
          "output_type": "execute_result",
          "data": {
            "text/plain": [
              "True"
            ]
          },
          "metadata": {},
          "execution_count": 17
        }
      ]
    },
    {
      "cell_type": "code",
      "source": [
        "x = 10\n",
        "y = 10\n",
        "\n",
        "x is y"
      ],
      "metadata": {
        "colab": {
          "base_uri": "https://localhost:8080/"
        },
        "id": "3uO4deZE1cOz",
        "outputId": "a13fe9da-ac53-4cb7-abd0-bae5a4684966"
      },
      "execution_count": null,
      "outputs": [
        {
          "output_type": "execute_result",
          "data": {
            "text/plain": [
              "True"
            ]
          },
          "metadata": {},
          "execution_count": 18
        }
      ]
    },
    {
      "cell_type": "code",
      "source": [
        "x = 1000\n",
        "y = 1000\n",
        "\n",
        "x is y"
      ],
      "metadata": {
        "colab": {
          "base_uri": "https://localhost:8080/"
        },
        "id": "X7lCIKQQ1gGj",
        "outputId": "61bad389-79e3-4f97-aca9-af4d38fe8a0e"
      },
      "execution_count": null,
      "outputs": [
        {
          "output_type": "execute_result",
          "data": {
            "text/plain": [
              "False"
            ]
          },
          "metadata": {},
          "execution_count": 19
        }
      ]
    },
    {
      "cell_type": "code",
      "source": [
        "# -5 ~ 256\n",
        "x = 257\n",
        "y = 257\n",
        "\n",
        "x is y"
      ],
      "metadata": {
        "colab": {
          "base_uri": "https://localhost:8080/"
        },
        "id": "wZBxuIgN2Q17",
        "outputId": "47a90a87-896f-4f96-ddbb-7a6ce6a94321"
      },
      "execution_count": null,
      "outputs": [
        {
          "output_type": "execute_result",
          "data": {
            "text/plain": [
              "False"
            ]
          },
          "metadata": {},
          "execution_count": 20
        }
      ]
    },
    {
      "cell_type": "code",
      "source": [
        "x is not y"
      ],
      "metadata": {
        "colab": {
          "base_uri": "https://localhost:8080/"
        },
        "id": "fVhe7xur22lj",
        "outputId": "01859801-ab26-4573-e980-065eeb3ff246"
      },
      "execution_count": null,
      "outputs": [
        {
          "output_type": "execute_result",
          "data": {
            "text/plain": [
              "True"
            ]
          },
          "metadata": {},
          "execution_count": 21
        }
      ]
    },
    {
      "cell_type": "code",
      "source": [
        "# None 비교는 is로 함\n",
        "x is None"
      ],
      "metadata": {
        "colab": {
          "base_uri": "https://localhost:8080/"
        },
        "id": "VwisZN1K9iCj",
        "outputId": "8c78846d-bc4a-458e-c6a7-15693f4cfef9"
      },
      "execution_count": null,
      "outputs": [
        {
          "output_type": "execute_result",
          "data": {
            "text/plain": [
              "False"
            ]
          },
          "metadata": {},
          "execution_count": 22
        }
      ]
    },
    {
      "cell_type": "markdown",
      "source": [
        "# 멤버연산"
      ],
      "metadata": {
        "id": "Jgygxm7H9u38"
      }
    },
    {
      "cell_type": "code",
      "source": [
        "'h' in 'hello world'"
      ],
      "metadata": {
        "colab": {
          "base_uri": "https://localhost:8080/"
        },
        "id": "IZnf1d6X-KC0",
        "outputId": "f51391ca-b152-4460-f226-040681b6c1c2"
      },
      "execution_count": null,
      "outputs": [
        {
          "output_type": "execute_result",
          "data": {
            "text/plain": [
              "True"
            ]
          },
          "metadata": {},
          "execution_count": 23
        }
      ]
    },
    {
      "cell_type": "code",
      "source": [
        "'h' not in 'hello world'"
      ],
      "metadata": {
        "colab": {
          "base_uri": "https://localhost:8080/"
        },
        "id": "BtPychDp-NH1",
        "outputId": "054c7bc0-ef85-497a-f3e0-c64514709b6c"
      },
      "execution_count": null,
      "outputs": [
        {
          "output_type": "execute_result",
          "data": {
            "text/plain": [
              "False"
            ]
          },
          "metadata": {},
          "execution_count": 24
        }
      ]
    },
    {
      "cell_type": "markdown",
      "source": [
        "# 리스트"
      ],
      "metadata": {
        "id": "YvXGh6Mr_yLl"
      }
    },
    {
      "cell_type": "code",
      "source": [
        "# 1. 여러개의 데이터를 저장하고 싶을 때 사용\n",
        "# 여러개의 데이터를 저장하고 싶을 때 주로 고려하는 자료형 :\n",
        "# 리스트, 딕셔너리, 클래스\n",
        "# 2. 변경이 가능한 자료형입니다.\n",
        "# 3. 순서가 있는 자료형입니다. (시퀀스형 자료형)\n",
        "# 4. 순회가 가능한 자료형입니다. (이터러블한 자료형)"
      ],
      "metadata": {
        "id": "yoB0mHGn_9v1"
      },
      "execution_count": null,
      "outputs": []
    },
    {
      "cell_type": "code",
      "source": [
        "s = [10, 20, 30, 40]\n",
        "s = ['a', 'b', 'c', 'd']\n",
        "s = [10, 'a', 10.1] # 이런식으로 다른 자료형들과 혼합해서 사용하진 않습니다."
      ],
      "metadata": {
        "id": "l2HgVHqHAlys"
      },
      "execution_count": null,
      "outputs": []
    },
    {
      "cell_type": "code",
      "source": [
        "l = [10, 20, 30, 40]\n",
        "l[0]\n",
        "l[3]"
      ],
      "metadata": {
        "colab": {
          "base_uri": "https://localhost:8080/"
        },
        "id": "yGUaoLehBDVc",
        "outputId": "5b2cde73-3627-4f45-ce77-eb6787fcfaef"
      },
      "execution_count": null,
      "outputs": [
        {
          "output_type": "execute_result",
          "data": {
            "text/plain": [
              "40"
            ]
          },
          "metadata": {},
          "execution_count": 26
        }
      ]
    },
    {
      "cell_type": "code",
      "source": [
        "l[4] # 순서 넘어가면 error"
      ],
      "metadata": {
        "colab": {
          "base_uri": "https://localhost:8080/",
          "height": 147
        },
        "id": "wU-Y1YC7BKJc",
        "outputId": "15cc2d01-bfc5-4cca-f394-6b2829941d1b"
      },
      "execution_count": null,
      "outputs": [
        {
          "output_type": "error",
          "ename": "IndexError",
          "evalue": "list index out of range",
          "traceback": [
            "\u001b[0;31m---------------------------------------------------------------------------\u001b[0m",
            "\u001b[0;31mIndexError\u001b[0m                                Traceback (most recent call last)",
            "\u001b[0;32m<ipython-input-27-405566c5959d>\u001b[0m in \u001b[0;36m<cell line: 1>\u001b[0;34m()\u001b[0m\n\u001b[0;32m----> 1\u001b[0;31m \u001b[0ml\u001b[0m\u001b[0;34m[\u001b[0m\u001b[0;36m4\u001b[0m\u001b[0;34m]\u001b[0m \u001b[0;31m# 순서 넘어가면 error\u001b[0m\u001b[0;34m\u001b[0m\u001b[0;34m\u001b[0m\u001b[0m\n\u001b[0m",
            "\u001b[0;31mIndexError\u001b[0m: list index out of range"
          ]
        }
      ]
    },
    {
      "cell_type": "code",
      "source": [
        "# 인덱싱이 가능하니 슬라이싱도 가능합니다.\n",
        "# 시퀀스 자료형의 특징이고 앞에서 배웠던 문자열도 시퀀스형 자료형입니다.\n",
        "\n",
        "l[:3]"
      ],
      "metadata": {
        "colab": {
          "base_uri": "https://localhost:8080/"
        },
        "id": "4q0NmGftBlrV",
        "outputId": "7967ba6e-9ac5-44f5-ac13-4e0a48631aee"
      },
      "execution_count": null,
      "outputs": [
        {
          "output_type": "execute_result",
          "data": {
            "text/plain": [
              "[10, 20, 30]"
            ]
          },
          "metadata": {},
          "execution_count": 28
        }
      ]
    },
    {
      "cell_type": "code",
      "source": [
        "# append\n",
        "# copy\n",
        "# count\n",
        "# extend\n",
        "# index\n",
        "# insert\n",
        "# pop\n",
        "# remove\n",
        "# reverse\n",
        "# sort"
      ],
      "metadata": {
        "id": "rHeoF04vB9os"
      },
      "execution_count": null,
      "outputs": []
    },
    {
      "cell_type": "code",
      "source": [
        "l = [10, 20, 30]\n",
        "l.append(100)\n",
        "l"
      ],
      "metadata": {
        "colab": {
          "base_uri": "https://localhost:8080/"
        },
        "id": "R_ZWTp-wCTWc",
        "outputId": "fc6bda22-ebdb-48af-f788-f409c728cc56"
      },
      "execution_count": null,
      "outputs": [
        {
          "output_type": "execute_result",
          "data": {
            "text/plain": [
              "[10, 20, 30, 100]"
            ]
          },
          "metadata": {},
          "execution_count": 33
        }
      ]
    },
    {
      "cell_type": "code",
      "source": [
        "x = [10, 20, 30]\n",
        "y = x\n",
        "\n",
        "y.append(100)\n",
        "\n",
        "x, y"
      ],
      "metadata": {
        "colab": {
          "base_uri": "https://localhost:8080/"
        },
        "id": "tIgpJRNKCgBM",
        "outputId": "f7317468-127d-40ee-e973-3f18199e14e4"
      },
      "execution_count": null,
      "outputs": [
        {
          "output_type": "execute_result",
          "data": {
            "text/plain": [
              "([10, 20, 30, 100], [10, 20, 30, 100])"
            ]
          },
          "metadata": {},
          "execution_count": 37
        }
      ]
    },
    {
      "cell_type": "code",
      "source": [
        "x = [10, 20, 30]\n",
        "y = x.copy()\n",
        "\n",
        "y.append(100)\n",
        "\n",
        "x, y"
      ],
      "metadata": {
        "colab": {
          "base_uri": "https://localhost:8080/"
        },
        "id": "jYsNJIm2C04c",
        "outputId": "b2758cba-34ef-4eeb-9291-b4dd2646441a"
      },
      "execution_count": null,
      "outputs": [
        {
          "output_type": "execute_result",
          "data": {
            "text/plain": [
              "([10, 20, 30], [10, 20, 30, 100])"
            ]
          },
          "metadata": {},
          "execution_count": 38
        }
      ]
    },
    {
      "cell_type": "code",
      "source": [
        "[10, 20, 30, 30, 30, 20, 10].count(30)\n",
        "['1', '2', '3', '3', '3'].count('3')"
      ],
      "metadata": {
        "colab": {
          "base_uri": "https://localhost:8080/"
        },
        "id": "uw89y3VRdieX",
        "outputId": "d2bab85f-bec1-4e56-ca3c-57ebc06600ae"
      },
      "execution_count": null,
      "outputs": [
        {
          "output_type": "execute_result",
          "data": {
            "text/plain": [
              "3"
            ]
          },
          "metadata": {},
          "execution_count": 3
        }
      ]
    },
    {
      "cell_type": "code",
      "source": [
        "# [10, 20, 30].append(40, 50)\n",
        "x = [10, 20, 30]\n",
        "x.append([40, 50])\n",
        "x\n",
        "x[3] # 40이 나왔으면 좋겠는데 [40, 50]이 나옴"
      ],
      "metadata": {
        "colab": {
          "base_uri": "https://localhost:8080/"
        },
        "id": "g0plDItqecgP",
        "outputId": "e9cbed05-ccc1-425e-a8a3-9610e0135504"
      },
      "execution_count": null,
      "outputs": [
        {
          "output_type": "execute_result",
          "data": {
            "text/plain": [
              "[40, 50]"
            ]
          },
          "metadata": {},
          "execution_count": 5
        }
      ]
    },
    {
      "cell_type": "code",
      "source": [
        "x = [10, 20, 30]\n",
        "x.extend([40, 50])\n",
        "x"
      ],
      "metadata": {
        "colab": {
          "base_uri": "https://localhost:8080/"
        },
        "id": "6lNv2ox3fQDt",
        "outputId": "a4fc9a4b-bbe2-44b2-8a08-bcf50db43c8c"
      },
      "execution_count": null,
      "outputs": [
        {
          "output_type": "execute_result",
          "data": {
            "text/plain": [
              "[10, 20, 30, 40, 50]"
            ]
          },
          "metadata": {},
          "execution_count": 6
        }
      ]
    },
    {
      "cell_type": "code",
      "source": [
        "[10, 20, 30, 40, 1, 2, 10].index(30)"
      ],
      "metadata": {
        "colab": {
          "base_uri": "https://localhost:8080/"
        },
        "id": "OR6mZnOMgrjs",
        "outputId": "661ba903-416c-44c1-a61f-76494710d91f"
      },
      "execution_count": null,
      "outputs": [
        {
          "output_type": "execute_result",
          "data": {
            "text/plain": [
              "2"
            ]
          },
          "metadata": {},
          "execution_count": 7
        }
      ]
    },
    {
      "cell_type": "code",
      "source": [
        "x = [10, 20, 30]\n",
        "x.insert(1, 10000)\n",
        "x # 값 넣기 0123순"
      ],
      "metadata": {
        "colab": {
          "base_uri": "https://localhost:8080/"
        },
        "id": "tdvoacVsgzkV",
        "outputId": "c0007100-3e23-47bf-e169-dd0b58e383af"
      },
      "execution_count": null,
      "outputs": [
        {
          "output_type": "execute_result",
          "data": {
            "text/plain": [
              "[10000, 10, 20, 30]"
            ]
          },
          "metadata": {},
          "execution_count": 12
        }
      ]
    },
    {
      "cell_type": "code",
      "source": [
        "x = [10, 20, 30]\n",
        "y = x.pop()\n",
        "x # 뒤에서 꺼내기"
      ],
      "metadata": {
        "colab": {
          "base_uri": "https://localhost:8080/"
        },
        "id": "pGJsQCUBhGJ9",
        "outputId": "81c0e6ac-8927-463c-e306-6e8f9f825ea8"
      },
      "execution_count": null,
      "outputs": [
        {
          "output_type": "execute_result",
          "data": {
            "text/plain": [
              "[10, 20]"
            ]
          },
          "metadata": {},
          "execution_count": 10
        }
      ]
    },
    {
      "cell_type": "code",
      "source": [
        "y"
      ],
      "metadata": {
        "colab": {
          "base_uri": "https://localhost:8080/"
        },
        "id": "tTVaLdE5hSW0",
        "outputId": "f1a322f7-adcd-4f38-f3d8-77a7e1535614"
      },
      "execution_count": null,
      "outputs": [
        {
          "output_type": "execute_result",
          "data": {
            "text/plain": [
              "30"
            ]
          },
          "metadata": {},
          "execution_count": 11
        }
      ]
    },
    {
      "cell_type": "code",
      "source": [
        "x = [10, 20, 30]\n",
        "y = x.pop(0)\n",
        "x # 앞에서 꺼내기"
      ],
      "metadata": {
        "id": "qGcxHW-jhXQN"
      },
      "execution_count": null,
      "outputs": []
    },
    {
      "cell_type": "code",
      "source": [
        "# 스택과 큐\n",
        "# 스택, LIFO(Last In First Out) 후입선출\n",
        "# 큐, FIFO(First In First Out) 선입선출\n",
        "\n",
        "# 자료구조, 알고리즘 공부하자\n"
      ],
      "metadata": {
        "id": "UFoPnD7YhcTs"
      },
      "execution_count": null,
      "outputs": []
    },
    {
      "cell_type": "code",
      "source": [
        "I = [10, 20, 30] # 스택\n",
        "I.append(40) # 뒤에 넣고 뒤에 빼기\n",
        "I.pop()\n",
        "# 앞으로도 뺄 수 있는데? => 스택을 구현하고 싶으시면 한 쪽 방향으로만 넣고 빼는 것으로 구현"
      ],
      "metadata": {
        "colab": {
          "base_uri": "https://localhost:8080/"
        },
        "id": "r5wkOOrrkwN-",
        "outputId": "43bb0b18-7064-443e-abed-72255520a937"
      },
      "execution_count": null,
      "outputs": [
        {
          "output_type": "execute_result",
          "data": {
            "text/plain": [
              "10"
            ]
          },
          "metadata": {},
          "execution_count": 18
        }
      ]
    },
    {
      "cell_type": "code",
      "source": [
        "I = [10, 20, 30]\n",
        "I.insert(0, 40) # (번째, 값)\n",
        "I.pop(0)"
      ],
      "metadata": {
        "colab": {
          "base_uri": "https://localhost:8080/"
        },
        "id": "XQ_I4VdqlXPb",
        "outputId": "dedbcd96-b8ba-408f-f9c9-ed8da239e9e6"
      },
      "execution_count": null,
      "outputs": [
        {
          "output_type": "execute_result",
          "data": {
            "text/plain": [
              "40"
            ]
          },
          "metadata": {},
          "execution_count": 21
        }
      ]
    },
    {
      "cell_type": "code",
      "source": [
        "# 큐\n",
        "I = [10, 20, 30]\n",
        "I.append(40)\n",
        "I.pop(0)"
      ],
      "metadata": {
        "colab": {
          "base_uri": "https://localhost:8080/"
        },
        "id": "4H3SyyEWlppA",
        "outputId": "7d52031b-2bef-47dc-a4cf-7274a56a9e0e"
      },
      "execution_count": null,
      "outputs": [
        {
          "output_type": "execute_result",
          "data": {
            "text/plain": [
              "10"
            ]
          },
          "metadata": {},
          "execution_count": 26
        }
      ]
    },
    {
      "cell_type": "code",
      "source": [
        "# 큐\n",
        "I = [10, 20, 30]\n",
        "I.insert(0, 40)\n",
        "I.pop(0)"
      ],
      "metadata": {
        "colab": {
          "base_uri": "https://localhost:8080/"
        },
        "id": "hTsenPRomAmG",
        "outputId": "ff2518a2-d2ab-4dfa-893b-d8da6f23e5aa"
      },
      "execution_count": null,
      "outputs": [
        {
          "output_type": "execute_result",
          "data": {
            "text/plain": [
              "40"
            ]
          },
          "metadata": {},
          "execution_count": 24
        }
      ]
    },
    {
      "cell_type": "code",
      "source": [
        "# 2차원 배열\n",
        "x = 10 # 스칼라 (0차원)\n",
        "x = [10, 20, 30] # 벡터 (1차원)\n",
        "x = [[10, 20], [30, 40]] # 메트릭스 (2차원)\n",
        "x = [[[10, 20], [30, 40]], [[10, 20], [30, 40]]] # 텐서 (3차원 이상)"
      ],
      "metadata": {
        "id": "Yr5_oSkdog2Z"
      },
      "execution_count": null,
      "outputs": []
    },
    {
      "cell_type": "code",
      "source": [
        "x = [[10, 20], [30, 40], [50, 60]]\n",
        "x[1]"
      ],
      "metadata": {
        "colab": {
          "base_uri": "https://localhost:8080/"
        },
        "id": "SyA25JcSpCBA",
        "outputId": "125fbb7a-0fb7-4739-a539-26318cfc127b"
      },
      "execution_count": null,
      "outputs": [
        {
          "output_type": "execute_result",
          "data": {
            "text/plain": [
              "[30, 40]"
            ]
          },
          "metadata": {},
          "execution_count": 27
        }
      ]
    },
    {
      "cell_type": "code",
      "source": [
        "x[1][0] # 1번째 괄호 중에 0번째 값을 도출"
      ],
      "metadata": {
        "colab": {
          "base_uri": "https://localhost:8080/"
        },
        "id": "vlZO0AwUph2g",
        "outputId": "4bd07bcb-aa42-4383-9828-889ea82e07a2"
      },
      "execution_count": null,
      "outputs": [
        {
          "output_type": "execute_result",
          "data": {
            "text/plain": [
              "30"
            ]
          },
          "metadata": {},
          "execution_count": 28
        }
      ]
    },
    {
      "cell_type": "code",
      "source": [
        "x = [[10, 20],\n",
        "     [30, 40]]\n",
        "y = [[1, 2],\n",
        "     [3, 4]]\n",
        "\n",
        "x + y # error는 안나지만 우리가 원하는결과 값은 아닙니다.\n"
      ],
      "metadata": {
        "colab": {
          "base_uri": "https://localhost:8080/"
        },
        "id": "qjpBM5thrIsu",
        "outputId": "c119a6b9-aac7-4c2d-930b-989b0836e54f"
      },
      "execution_count": null,
      "outputs": [
        {
          "output_type": "execute_result",
          "data": {
            "text/plain": [
              "[[10, 20], [30, 40], [1, 2], [3, 4]]"
            ]
          },
          "metadata": {},
          "execution_count": 29
        }
      ]
    },
    {
      "cell_type": "code",
      "source": [
        "z = [[x[0][0] + y[0][0], x[0][1] + y[0][1]],\n",
        "     [x[1][0] + y[1][0], x[1][1] + y[1][1]]]\n",
        "z"
      ],
      "metadata": {
        "colab": {
          "base_uri": "https://localhost:8080/"
        },
        "id": "jkYW3Wwkrgwe",
        "outputId": "cb9a9589-2718-4811-f31c-ddeaa567c83d"
      },
      "execution_count": null,
      "outputs": [
        {
          "output_type": "execute_result",
          "data": {
            "text/plain": [
              "[[11, 22], [33, 44]]"
            ]
          },
          "metadata": {},
          "execution_count": 30
        }
      ]
    },
    {
      "cell_type": "code",
      "source": [
        "x = [1, 2, 3, 1, 1, 1, 1]\n",
        "x.remove(1) # 처음 만나는 것 하나만 지울 수 있음, 1234순서 remove(0) x\n",
        "x"
      ],
      "metadata": {
        "colab": {
          "base_uri": "https://localhost:8080/"
        },
        "id": "XGiq6WLSsL7_",
        "outputId": "cb632b1b-6cc9-4d17-ee02-d501e2eb3995"
      },
      "execution_count": null,
      "outputs": [
        {
          "output_type": "execute_result",
          "data": {
            "text/plain": [
              "[2, 3, 1, 1, 1, 1]"
            ]
          },
          "metadata": {},
          "execution_count": 35
        }
      ]
    },
    {
      "cell_type": "code",
      "source": [
        "# reverse\n",
        "\n",
        "x = [1, 5, 4, 3, 7, 2]\n",
        "\n",
        "x.reverse() # 역순이고 역정렬이 아닙니다. 원본을 수정합니다.\n",
        "x"
      ],
      "metadata": {
        "colab": {
          "base_uri": "https://localhost:8080/"
        },
        "id": "Z9WsvgxBsh-2",
        "outputId": "161c48ca-3003-4704-831a-12a59efe1a60"
      },
      "execution_count": null,
      "outputs": [
        {
          "output_type": "execute_result",
          "data": {
            "text/plain": [
              "[2, 7, 3, 4, 5, 1]"
            ]
          },
          "metadata": {},
          "execution_count": 36
        }
      ]
    },
    {
      "cell_type": "code",
      "source": [
        "x = [1, 5, 4, 3, 7, 2]\n",
        "\n",
        "list(reversed(x)), x # 역순이고 역정렬이 아닙니다. 원본을 수정하지 않습니다."
      ],
      "metadata": {
        "colab": {
          "base_uri": "https://localhost:8080/"
        },
        "id": "4lEpWVastEXu",
        "outputId": "0221c51b-f217-4885-962c-37e78ff1b906"
      },
      "execution_count": null,
      "outputs": [
        {
          "output_type": "execute_result",
          "data": {
            "text/plain": [
              "([2, 7, 3, 4, 5, 1], [1, 5, 4, 3, 7, 2])"
            ]
          },
          "metadata": {},
          "execution_count": 38
        }
      ]
    },
    {
      "cell_type": "code",
      "source": [
        "x = [1, 5, 4, 3, 7, 2]\n",
        "x.sort() # 정렬입니다. 원본을 수정합니다.\n",
        "x"
      ],
      "metadata": {
        "colab": {
          "base_uri": "https://localhost:8080/"
        },
        "id": "DvUXP0OBtiJ1",
        "outputId": "4d401e8a-0f6f-424e-8c05-1fcdff5b7b93"
      },
      "execution_count": null,
      "outputs": [
        {
          "output_type": "execute_result",
          "data": {
            "text/plain": [
              "[1, 2, 3, 4, 5, 7]"
            ]
          },
          "metadata": {},
          "execution_count": 39
        }
      ]
    },
    {
      "cell_type": "code",
      "source": [
        "x = [1, 5, 4, 3, 7, 2]\n",
        "sorted(x), x\n",
        "# 정렬입니다. 원본을 수정하지 않습니다. 게다가 출력값이 리스트입니다."
      ],
      "metadata": {
        "colab": {
          "base_uri": "https://localhost:8080/"
        },
        "id": "N3KILdpItyj_",
        "outputId": "4411f758-9a26-4cc3-cb12-ca37ee238104"
      },
      "execution_count": null,
      "outputs": [
        {
          "output_type": "execute_result",
          "data": {
            "text/plain": [
              "([1, 2, 3, 4, 5, 7], [1, 5, 4, 3, 7, 2])"
            ]
          },
          "metadata": {},
          "execution_count": 40
        }
      ]
    },
    {
      "cell_type": "code",
      "source": [
        "# 역정렬\n",
        "x = [1, 5, 4, 3, 7, 2]\n",
        "\n",
        "# 방법 1\n",
        "list(reversed(sorted(x))), x\n",
        "\n",
        "# 방법 2\n",
        "x.sort()\n",
        "x.reverse()\n",
        "x"
      ],
      "metadata": {
        "colab": {
          "base_uri": "https://localhost:8080/"
        },
        "id": "yPWIpFwKuHXF",
        "outputId": "d2947a94-8692-44e5-89bd-f4a23ce75cbd"
      },
      "execution_count": null,
      "outputs": [
        {
          "output_type": "execute_result",
          "data": {
            "text/plain": [
              "[7, 5, 4, 3, 2, 1]"
            ]
          },
          "metadata": {},
          "execution_count": 42
        }
      ]
    },
    {
      "cell_type": "code",
      "source": [
        "x = [\n",
        "    [10, 20, 30],\n",
        "    [55, 48, 22],\n",
        "    [32, 75, 35],\n",
        "    [42, 55, 33]\n",
        "]\n",
        "\n",
        "def 함수(x):\n",
        "    return x[2] # [] 번째 순으로 정렬\n",
        "\n",
        "sorted(x, key = 함수)"
      ],
      "metadata": {
        "colab": {
          "base_uri": "https://localhost:8080/"
        },
        "id": "dk3JAebDDlVE",
        "outputId": "0538d8bd-b43d-424a-8336-5cd4568715ee"
      },
      "execution_count": null,
      "outputs": [
        {
          "output_type": "execute_result",
          "data": {
            "text/plain": [
              "[[55, 48, 22], [10, 20, 30], [42, 55, 33], [32, 75, 35]]"
            ]
          },
          "metadata": {},
          "execution_count": 45
        }
      ]
    },
    {
      "cell_type": "code",
      "source": [
        "x = [\n",
        "    [10, 20, 30],\n",
        "    [55, 48, 22],\n",
        "    [32, 75, 35],\n",
        "    [42, 55, 33]\n",
        "]\n",
        "\n",
        "def 함수(x):\n",
        "    return x[2]\n",
        "\n",
        "sorted(x, key = 함수)[::-1] # 이렇게는 잘 사용하지 않습니다.\n",
        "sorted(x, key = 함수, reverse = True)"
      ],
      "metadata": {
        "colab": {
          "base_uri": "https://localhost:8080/"
        },
        "id": "pdnupitUEp6L",
        "outputId": "93082b17-e233-41f1-c1f6-cdb4013b3230"
      },
      "execution_count": null,
      "outputs": [
        {
          "output_type": "execute_result",
          "data": {
            "text/plain": [
              "[[32, 75, 35], [42, 55, 33], [10, 20, 30], [55, 48, 22]]"
            ]
          },
          "metadata": {},
          "execution_count": 47
        }
      ]
    },
    {
      "cell_type": "markdown",
      "source": [
        "# 튜플"
      ],
      "metadata": {
        "id": "UCOHf6Uy_2zU"
      }
    },
    {
      "cell_type": "code",
      "source": [
        "# 참조불변\n",
        "# 변경이 불가능한 자료형입니다.\n",
        "\n",
        "x = (10, 20, 30)\n",
        "x[0] = 100\n",
        "x"
      ],
      "metadata": {
        "colab": {
          "base_uri": "https://localhost:8080/",
          "height": 202
        },
        "id": "Rv0QuHG4FHpq",
        "outputId": "0569556e-db1e-44b2-d102-f0879509daeb"
      },
      "execution_count": null,
      "outputs": [
        {
          "output_type": "error",
          "ename": "TypeError",
          "evalue": "'tuple' object does not support item assignment",
          "traceback": [
            "\u001b[0;31m---------------------------------------------------------------------------\u001b[0m",
            "\u001b[0;31mTypeError\u001b[0m                                 Traceback (most recent call last)",
            "\u001b[0;32m<ipython-input-48-23eb6ced151d>\u001b[0m in \u001b[0;36m<cell line: 5>\u001b[0;34m()\u001b[0m\n\u001b[1;32m      3\u001b[0m \u001b[0;34m\u001b[0m\u001b[0m\n\u001b[1;32m      4\u001b[0m \u001b[0mx\u001b[0m \u001b[0;34m=\u001b[0m \u001b[0;34m(\u001b[0m\u001b[0;36m10\u001b[0m\u001b[0;34m,\u001b[0m \u001b[0;36m20\u001b[0m\u001b[0;34m,\u001b[0m \u001b[0;36m30\u001b[0m\u001b[0;34m)\u001b[0m\u001b[0;34m\u001b[0m\u001b[0;34m\u001b[0m\u001b[0m\n\u001b[0;32m----> 5\u001b[0;31m \u001b[0mx\u001b[0m\u001b[0;34m[\u001b[0m\u001b[0;36m0\u001b[0m\u001b[0;34m]\u001b[0m \u001b[0;34m=\u001b[0m \u001b[0;36m100\u001b[0m\u001b[0;34m\u001b[0m\u001b[0;34m\u001b[0m\u001b[0m\n\u001b[0m\u001b[1;32m      6\u001b[0m \u001b[0mx\u001b[0m\u001b[0;34m\u001b[0m\u001b[0;34m\u001b[0m\u001b[0m\n",
            "\u001b[0;31mTypeError\u001b[0m: 'tuple' object does not support item assignment"
          ]
        }
      ]
    },
    {
      "cell_type": "code",
      "source": [
        "x = (10, 20, 30)\n",
        "dir(x)"
      ],
      "metadata": {
        "colab": {
          "base_uri": "https://localhost:8080/"
        },
        "id": "XtXdMcJIFYcL",
        "outputId": "5a842438-5e1c-48b9-f62e-61256bd112aa"
      },
      "execution_count": null,
      "outputs": [
        {
          "output_type": "execute_result",
          "data": {
            "text/plain": [
              "['__add__',\n",
              " '__class__',\n",
              " '__class_getitem__',\n",
              " '__contains__',\n",
              " '__delattr__',\n",
              " '__dir__',\n",
              " '__doc__',\n",
              " '__eq__',\n",
              " '__format__',\n",
              " '__ge__',\n",
              " '__getattribute__',\n",
              " '__getitem__',\n",
              " '__getnewargs__',\n",
              " '__gt__',\n",
              " '__hash__',\n",
              " '__init__',\n",
              " '__init_subclass__',\n",
              " '__iter__',\n",
              " '__le__',\n",
              " '__len__',\n",
              " '__lt__',\n",
              " '__mul__',\n",
              " '__ne__',\n",
              " '__new__',\n",
              " '__reduce__',\n",
              " '__reduce_ex__',\n",
              " '__repr__',\n",
              " '__rmul__',\n",
              " '__setattr__',\n",
              " '__sizeof__',\n",
              " '__str__',\n",
              " '__subclasshook__',\n",
              " 'count',\n",
              " 'index']"
            ]
          },
          "metadata": {},
          "execution_count": 49
        }
      ]
    },
    {
      "cell_type": "code",
      "source": [
        "x = [10, 20, 30]\n",
        "y = (x, 100, 200)\n",
        "\n",
        "y"
      ],
      "metadata": {
        "colab": {
          "base_uri": "https://localhost:8080/"
        },
        "id": "wgslAwYqFmJx",
        "outputId": "8ec2893d-22e8-4873-ecb2-6cc8d81566d8"
      },
      "execution_count": null,
      "outputs": [
        {
          "output_type": "execute_result",
          "data": {
            "text/plain": [
              "([10, 20, 30], 100, 200)"
            ]
          },
          "metadata": {},
          "execution_count": 50
        }
      ]
    },
    {
      "cell_type": "code",
      "source": [
        "x[0] = 1000\n",
        "y"
      ],
      "metadata": {
        "colab": {
          "base_uri": "https://localhost:8080/"
        },
        "id": "wr4XB3o3Fv_S",
        "outputId": "01945a61-521d-40f2-cf6b-d489b8013574"
      },
      "execution_count": null,
      "outputs": [
        {
          "output_type": "execute_result",
          "data": {
            "text/plain": [
              "([1000, 20, 30], 100, 200)"
            ]
          },
          "metadata": {},
          "execution_count": 51
        }
      ]
    },
    {
      "cell_type": "code",
      "source": [
        "# 어떨 때 튜플을 사용할까요?\n",
        "# 1. 불변해야 하는 갑을 저장할 때\n",
        "# 2. 갯수가 정해져 있는 자료구조를 표현할 때"
      ],
      "metadata": {
        "id": "JP55AMMWGDbR"
      },
      "execution_count": null,
      "outputs": []
    },
    {
      "cell_type": "code",
      "source": [
        "{'one':1, 'two':2}.items()"
      ],
      "metadata": {
        "colab": {
          "base_uri": "https://localhost:8080/"
        },
        "id": "AqvYnYCyGT4g",
        "outputId": "d06428be-e3dd-4f39-b50a-39f1928a52f7"
      },
      "execution_count": null,
      "outputs": [
        {
          "output_type": "execute_result",
          "data": {
            "text/plain": [
              "dict_items([('one', 1), ('two', 2)])"
            ]
          },
          "metadata": {},
          "execution_count": 53
        }
      ]
    },
    {
      "cell_type": "markdown",
      "source": [
        "# 딕셔너리"
      ],
      "metadata": {
        "id": "tk4PlY4Z_5Hc"
      }
    },
    {
      "cell_type": "code",
      "source": [
        "# 순서가 있습니다. python 3.6 version에서부터 순서가 생겼습니다.\n",
        "# 변경이 가능한 자료형입니다.\n",
        "# key와 value의 쌍으로 이루어져 있습니다.\n",
        "\n",
        "{'한라산': 3200, '백두산': 4000, '사라봉': 300}\n",
        "{'one': '하나', 'two': '둘', 'three': '셋'}"
      ],
      "metadata": {
        "colab": {
          "base_uri": "https://localhost:8080/"
        },
        "id": "kaqSZI1aGh55",
        "outputId": "a40b1d9f-155f-4c2a-bbc1-6eeb5ee72e10"
      },
      "execution_count": null,
      "outputs": [
        {
          "output_type": "execute_result",
          "data": {
            "text/plain": [
              "{'one': '하나', 'two': '둘', 'three': '셋'}"
            ]
          },
          "metadata": {},
          "execution_count": 56
        }
      ]
    },
    {
      "cell_type": "code",
      "source": [
        "d = {'one': 1, 'two': 2}\n",
        "d['one']\n",
        "# d[0]"
      ],
      "metadata": {
        "colab": {
          "base_uri": "https://localhost:8080/"
        },
        "id": "3Yi-RGElHKJQ",
        "outputId": "ec71c382-fc64-49db-a0b1-527abd4750d9"
      },
      "execution_count": null,
      "outputs": [
        {
          "output_type": "execute_result",
          "data": {
            "text/plain": [
              "1"
            ]
          },
          "metadata": {},
          "execution_count": 58
        }
      ]
    },
    {
      "cell_type": "code",
      "source": [
        "d['one'] = '하나'\n",
        "d"
      ],
      "metadata": {
        "colab": {
          "base_uri": "https://localhost:8080/"
        },
        "id": "EbFCotiBH0H4",
        "outputId": "dfd76f29-b1a7-44a9-ab01-278bce8178b5"
      },
      "execution_count": null,
      "outputs": [
        {
          "output_type": "execute_result",
          "data": {
            "text/plain": [
              "{'one': '하나', 'two': 2}"
            ]
          },
          "metadata": {},
          "execution_count": 61
        }
      ]
    },
    {
      "cell_type": "code",
      "source": [
        "type(d)"
      ],
      "metadata": {
        "colab": {
          "base_uri": "https://localhost:8080/"
        },
        "id": "UPi8uvbQH9wB",
        "outputId": "c8f7e280-46dd-44d2-c7b5-e111fd332170"
      },
      "execution_count": null,
      "outputs": [
        {
          "output_type": "execute_result",
          "data": {
            "text/plain": [
              "dict"
            ]
          },
          "metadata": {},
          "execution_count": 60
        }
      ]
    },
    {
      "cell_type": "code",
      "source": [
        "dir(d)\n",
        "\n",
        "# clear\n",
        "# copy\n",
        "# fromkeys\n",
        "# get\n",
        "# items\n",
        "# keys\n",
        "# pop\n",
        "# popitem\n",
        "# setdefault\n",
        "# update\n",
        "# values\n",
        "\n",
        "jeju = {'한라봉': 4000, '바나나': 2000, '귤':500}\n",
        "seoul = jeju\n",
        "\n",
        "seoul['한라봉'] = 5000\n",
        "jeju"
      ],
      "metadata": {
        "colab": {
          "base_uri": "https://localhost:8080/"
        },
        "id": "UOV8PTeyInXP",
        "outputId": "eeca2d48-adee-436a-b5ee-3779ad020411"
      },
      "execution_count": null,
      "outputs": [
        {
          "output_type": "execute_result",
          "data": {
            "text/plain": [
              "{'한라봉': 5000, '바나나': 2000, '귤': 500}"
            ]
          },
          "metadata": {},
          "execution_count": 64
        }
      ]
    },
    {
      "cell_type": "code",
      "source": [
        "jeju = {'한라봉': 4000, '바나나': 2000, '귤':500}\n",
        "seoul = jeju.copy()\n",
        "\n",
        "seoul['한라봉'] = 5000\n",
        "jeju, seoul"
      ],
      "metadata": {
        "colab": {
          "base_uri": "https://localhost:8080/"
        },
        "id": "Wv3zbd0bJf6g",
        "outputId": "4528fc79-72db-47f3-cbb4-73363a420077"
      },
      "execution_count": null,
      "outputs": [
        {
          "output_type": "execute_result",
          "data": {
            "text/plain": [
              "({'한라봉': 4000, '바나나': 2000, '귤': 500}, {'한라봉': 5000, '바나나': 2000, '귤': 500})"
            ]
          },
          "metadata": {},
          "execution_count": 65
        }
      ]
    },
    {
      "cell_type": "code",
      "source": [
        "dict.fromkeys('hello')"
      ],
      "metadata": {
        "colab": {
          "base_uri": "https://localhost:8080/"
        },
        "id": "H1RuQwfEKT5n",
        "outputId": "927ad718-1ad5-4562-a74c-9a8bfa313b76"
      },
      "execution_count": null,
      "outputs": [
        {
          "output_type": "execute_result",
          "data": {
            "text/plain": [
              "{'h': None, 'e': None, 'l': None, 'o': None}"
            ]
          },
          "metadata": {},
          "execution_count": 66
        }
      ]
    },
    {
      "cell_type": "code",
      "source": [
        "dict.fromkeys('hello', True)"
      ],
      "metadata": {
        "colab": {
          "base_uri": "https://localhost:8080/"
        },
        "id": "mtQOR6_4Kxgv",
        "outputId": "c0ba05c5-c5d1-4e8a-9edf-ac1beadac01e"
      },
      "execution_count": null,
      "outputs": [
        {
          "output_type": "execute_result",
          "data": {
            "text/plain": [
              "{'h': True, 'e': True, 'l': True, 'o': True}"
            ]
          },
          "metadata": {},
          "execution_count": 68
        }
      ]
    },
    {
      "cell_type": "code",
      "source": [
        "dict.fromkeys(['하나', '둘', '셋'], True)"
      ],
      "metadata": {
        "colab": {
          "base_uri": "https://localhost:8080/"
        },
        "id": "wYrKj31QLHZX",
        "outputId": "57564067-383e-4b24-9d24-6b6fb977b8ca"
      },
      "execution_count": null,
      "outputs": [
        {
          "output_type": "execute_result",
          "data": {
            "text/plain": [
              "{'하나': True, '둘': True, '셋': True}"
            ]
          },
          "metadata": {},
          "execution_count": 72
        }
      ]
    },
    {
      "cell_type": "code",
      "source": [
        "jeju = {'한라봉': 4000, '바나나': 2000, '귤': 500}\n",
        "# jeju['천혜향']\n",
        "jeju.get('천혜향', '값이 없습니다!')\n",
        "jeju.get('한라봉', '값이 없습니다!')"
      ],
      "metadata": {
        "colab": {
          "base_uri": "https://localhost:8080/"
        },
        "id": "Ti6wdquFLYjW",
        "outputId": "faa8df1e-7680-400f-8768-8f821a2ae77f"
      },
      "execution_count": null,
      "outputs": [
        {
          "output_type": "execute_result",
          "data": {
            "text/plain": [
              "4000"
            ]
          },
          "metadata": {},
          "execution_count": 73
        }
      ]
    },
    {
      "cell_type": "code",
      "source": [
        "jeju = {'한라봉': 4000, '바나나': 2000, '귤': 500}\n",
        "# jeju.items()[0]\n",
        "jeju.items()\n",
        "list(jeju.items())"
      ],
      "metadata": {
        "colab": {
          "base_uri": "https://localhost:8080/"
        },
        "id": "gerlmL2HL5EO",
        "outputId": "fc3a28a2-7552-4f04-86a8-d6000b169138"
      },
      "execution_count": null,
      "outputs": [
        {
          "output_type": "execute_result",
          "data": {
            "text/plain": [
              "[('한라봉', 4000), ('바나나', 2000), ('귤', 500)]"
            ]
          },
          "metadata": {},
          "execution_count": 76
        }
      ]
    },
    {
      "cell_type": "code",
      "source": [
        "list(jeju.items())[0][1]"
      ],
      "metadata": {
        "colab": {
          "base_uri": "https://localhost:8080/"
        },
        "id": "_Yd_8V0SMK6G",
        "outputId": "13145580-0f99-4f47-9ca4-3ee3bce3bc76"
      },
      "execution_count": null,
      "outputs": [
        {
          "output_type": "execute_result",
          "data": {
            "text/plain": [
              "4000"
            ]
          },
          "metadata": {},
          "execution_count": 77
        }
      ]
    },
    {
      "cell_type": "code",
      "source": [
        "jeju.keys()"
      ],
      "metadata": {
        "colab": {
          "base_uri": "https://localhost:8080/"
        },
        "id": "UDwNUtuDMk39",
        "outputId": "e92b92ec-3ede-425f-b9f2-4385802bf14b"
      },
      "execution_count": null,
      "outputs": [
        {
          "output_type": "execute_result",
          "data": {
            "text/plain": [
              "dict_keys(['한라봉', '바나나', '귤'])"
            ]
          },
          "metadata": {},
          "execution_count": 78
        }
      ]
    },
    {
      "cell_type": "code",
      "source": [
        "jeju.values()"
      ],
      "metadata": {
        "colab": {
          "base_uri": "https://localhost:8080/"
        },
        "id": "ke9QrezeMnxV",
        "outputId": "63298b12-76de-4d8d-fb02-db7781d7c762"
      },
      "execution_count": null,
      "outputs": [
        {
          "output_type": "execute_result",
          "data": {
            "text/plain": [
              "dict_values([4000, 2000, 500])"
            ]
          },
          "metadata": {},
          "execution_count": 80
        }
      ]
    },
    {
      "cell_type": "code",
      "source": [
        "jeju = {'한라봉': 4000, '바나나': 2000, '귤': 500}\n",
        "\n",
        "jeju.pop('한라봉')\n",
        "jeju"
      ],
      "metadata": {
        "colab": {
          "base_uri": "https://localhost:8080/"
        },
        "id": "iy5EFnZrM0pd",
        "outputId": "1fd6bed6-33c7-4507-b3a2-7ef71ff4d6dc"
      },
      "execution_count": null,
      "outputs": [
        {
          "output_type": "execute_result",
          "data": {
            "text/plain": [
              "{'바나나': 2000, '귤': 500}"
            ]
          },
          "metadata": {},
          "execution_count": 82
        }
      ]
    },
    {
      "cell_type": "code",
      "source": [
        "jeju = {'한라봉': 4000, '바나나': 2000, '귤': 500}\n",
        "\n",
        "jeju.popitem()\n",
        "jeju"
      ],
      "metadata": {
        "colab": {
          "base_uri": "https://localhost:8080/"
        },
        "id": "h2vSaaHeM95c",
        "outputId": "f979dda8-0f1e-402a-c20b-955de23b81dc"
      },
      "execution_count": null,
      "outputs": [
        {
          "output_type": "execute_result",
          "data": {
            "text/plain": [
              "{'한라봉': 4000, '바나나': 2000}"
            ]
          },
          "metadata": {},
          "execution_count": 85
        }
      ]
    },
    {
      "cell_type": "code",
      "source": [
        "numbers = {'one': '하나', 'two': '둘', 'three': '셋'}\n",
        "four_value = numbers.setdefault(\"four\", \"넷\")\n",
        "print(four_value)\n",
        "print(numbers)"
      ],
      "metadata": {
        "colab": {
          "base_uri": "https://localhost:8080/"
        },
        "id": "5NPnM0mhTORC",
        "outputId": "8e4f422f-45d6-4e7d-9efb-26ad31949ad4"
      },
      "execution_count": null,
      "outputs": [
        {
          "output_type": "stream",
          "name": "stdout",
          "text": [
            "넷\n",
            "{'one': '하나', 'two': '둘', 'three': '셋', 'four': '넷'}\n"
          ]
        }
      ]
    },
    {
      "cell_type": "code",
      "source": [
        "numbers = {'one': '하나', 'two': '둘', 'three': '셋'}\n",
        "four_value = numbers.setdefault(\"three\", \"셋test\")\n",
        "print(four_value)\n",
        "print(numbers)"
      ],
      "metadata": {
        "colab": {
          "base_uri": "https://localhost:8080/"
        },
        "id": "7h767TsjTQfD",
        "outputId": "2517482c-d54a-4e31-ace8-6be2d3586e55"
      },
      "execution_count": null,
      "outputs": [
        {
          "output_type": "stream",
          "name": "stdout",
          "text": [
            "셋\n",
            "{'one': '하나', 'two': '둘', 'three': '셋'}\n"
          ]
        }
      ]
    },
    {
      "cell_type": "code",
      "source": [
        "numbers = {'one': '하나', 'two': '둘', 'three': '셋'}\n",
        "numbers.update({'four': '넷', 'five': '다섯'})\n",
        "print(numbers)\n"
      ],
      "metadata": {
        "colab": {
          "base_uri": "https://localhost:8080/"
        },
        "id": "GVyuKoRlT7kh",
        "outputId": "5c2c4180-7858-4ee2-bad5-5fc99a428f1e"
      },
      "execution_count": null,
      "outputs": [
        {
          "output_type": "stream",
          "name": "stdout",
          "text": [
            "{'one': '하나', 'two': '둘', 'three': '셋', 'four': '넷', 'five': '다섯'}\n"
          ]
        }
      ]
    },
    {
      "cell_type": "code",
      "source": [
        "numbers = {'one': '하나', 'two': '둘', 'three': '셋'}\n",
        "numbers.update({'three': '셋test', 'four': '넷', 'five': '다섯'})\n",
        "print(numbers)"
      ],
      "metadata": {
        "colab": {
          "base_uri": "https://localhost:8080/"
        },
        "id": "-OpjvpSCUIyS",
        "outputId": "50c6e939-2368-4889-f8a8-23958614e7bd"
      },
      "execution_count": null,
      "outputs": [
        {
          "output_type": "stream",
          "name": "stdout",
          "text": [
            "{'one': '하나', 'two': '둘', 'three': '셋test', 'four': '넷', 'five': '다섯'}\n"
          ]
        }
      ]
    },
    {
      "cell_type": "code",
      "source": [
        "{'one': '하나', 'two': '둘', 'three': '셋'} | {'four': '넷'}"
      ],
      "metadata": {
        "colab": {
          "base_uri": "https://localhost:8080/"
        },
        "id": "NSntLLABUpkq",
        "outputId": "f267e245-6cb8-4370-fa0b-04513ad43964"
      },
      "execution_count": null,
      "outputs": [
        {
          "output_type": "execute_result",
          "data": {
            "text/plain": [
              "{'one': '하나', 'two': '둘', 'three': '셋', 'four': '넷'}"
            ]
          },
          "metadata": {},
          "execution_count": 90
        }
      ]
    },
    {
      "cell_type": "markdown",
      "source": [
        "# 셋"
      ],
      "metadata": {
        "id": "OBS35xbQ_7pV"
      }
    },
    {
      "cell_type": "code",
      "source": [
        "# 중복을 허락하지 않는 순서가 없는 자료형\n",
        "s = {1, 2, 3, 4, 4, 4, 4, 4, 4}\n",
        "s"
      ],
      "metadata": {
        "id": "78O9QC26-TYn",
        "colab": {
          "base_uri": "https://localhost:8080/"
        },
        "outputId": "720df899-41e9-44ce-c0fa-aa625011cc02"
      },
      "execution_count": null,
      "outputs": [
        {
          "output_type": "execute_result",
          "data": {
            "text/plain": [
              "{1, 2, 3, 4}"
            ]
          },
          "metadata": {},
          "execution_count": 91
        }
      ]
    },
    {
      "cell_type": "code",
      "source": [
        "set('hello world')"
      ],
      "metadata": {
        "colab": {
          "base_uri": "https://localhost:8080/"
        },
        "id": "3Hk336sGVQqR",
        "outputId": "a93b2a67-c890-4a94-e5a2-208e01981ac0"
      },
      "execution_count": null,
      "outputs": [
        {
          "output_type": "execute_result",
          "data": {
            "text/plain": [
              "{' ', 'd', 'e', 'h', 'l', 'o', 'r', 'w'}"
            ]
          },
          "metadata": {},
          "execution_count": 92
        }
      ]
    },
    {
      "cell_type": "code",
      "source": [
        "s = {1, 2, 3}\n",
        "ss = {3, 4, 5}\n",
        "\n",
        "s - ss # 차집합\n",
        "s & ss # 교집합"
      ],
      "metadata": {
        "colab": {
          "base_uri": "https://localhost:8080/"
        },
        "id": "aUuffYY1V2IK",
        "outputId": "5b713642-f7ee-4788-b6f9-7a0a129c3811"
      },
      "execution_count": null,
      "outputs": [
        {
          "output_type": "execute_result",
          "data": {
            "text/plain": [
              "{3}"
            ]
          },
          "metadata": {},
          "execution_count": 95
        }
      ]
    },
    {
      "cell_type": "code",
      "source": [
        "s = {1, 2, 3}\n",
        "ss = {3, 4, 5}\n",
        "\n",
        "print(s.difference(ss)) # 차집합\n",
        "print(s.union(ss)) # 합집합\n",
        "print(s.intersection(ss)) # 교집합"
      ],
      "metadata": {
        "colab": {
          "base_uri": "https://localhost:8080/"
        },
        "id": "6qM0pswSWVjL",
        "outputId": "368505e2-513b-4ab2-b3be-25324634856f"
      },
      "execution_count": null,
      "outputs": [
        {
          "output_type": "stream",
          "name": "stdout",
          "text": [
            "{1, 2}\n",
            "{1, 2, 3, 4, 5}\n",
            "{3}\n"
          ]
        }
      ]
    },
    {
      "cell_type": "code",
      "source": [
        "s = {1, 2, 3}\n",
        "s.add(4)\n",
        "s"
      ],
      "metadata": {
        "colab": {
          "base_uri": "https://localhost:8080/"
        },
        "id": "gQMvdSk6W2Qv",
        "outputId": "b4e786e8-9c97-4c0d-a3e1-ce07d3dbe687"
      },
      "execution_count": null,
      "outputs": [
        {
          "output_type": "execute_result",
          "data": {
            "text/plain": [
              "{1, 2, 3, 4}"
            ]
          },
          "metadata": {},
          "execution_count": 97
        }
      ]
    },
    {
      "cell_type": "code",
      "source": [
        "s = {1, 2, 3}\n",
        "s.remove(3)\n",
        "s"
      ],
      "metadata": {
        "colab": {
          "base_uri": "https://localhost:8080/"
        },
        "id": "Z_aqh-6VW4nX",
        "outputId": "502f0c62-0813-42c2-cc8a-413ab60e9f71"
      },
      "execution_count": null,
      "outputs": [
        {
          "output_type": "execute_result",
          "data": {
            "text/plain": [
              "{1, 2}"
            ]
          },
          "metadata": {},
          "execution_count": 98
        }
      ]
    },
    {
      "cell_type": "markdown",
      "source": [
        "# built-in function"
      ],
      "metadata": {
        "id": "vihp_2xhXQWp"
      }
    },
    {
      "cell_type": "code",
      "source": [
        "sum([10, 20, 30, 40])"
      ],
      "metadata": {
        "colab": {
          "base_uri": "https://localhost:8080/"
        },
        "id": "3_Inmbt_XobO",
        "outputId": "3bf5d3f6-d99f-482c-819b-927278cc1bab"
      },
      "execution_count": null,
      "outputs": [
        {
          "output_type": "execute_result",
          "data": {
            "text/plain": [
              "100"
            ]
          },
          "metadata": {},
          "execution_count": 99
        }
      ]
    },
    {
      "cell_type": "code",
      "source": [
        "len([10, 20, 30, 40])"
      ],
      "metadata": {
        "colab": {
          "base_uri": "https://localhost:8080/"
        },
        "id": "e-PSHMcIXr0P",
        "outputId": "294c5454-9d67-42a9-8ecd-4cca1b456670"
      },
      "execution_count": null,
      "outputs": [
        {
          "output_type": "execute_result",
          "data": {
            "text/plain": [
              "4"
            ]
          },
          "metadata": {},
          "execution_count": 100
        }
      ]
    },
    {
      "cell_type": "code",
      "source": [
        "sum([10, 20, 30, 40], 100)"
      ],
      "metadata": {
        "colab": {
          "base_uri": "https://localhost:8080/"
        },
        "id": "E89mJ9ncXv8-",
        "outputId": "a92bbfb6-de03-4da4-aa93-b9b1fa82551e"
      },
      "execution_count": null,
      "outputs": [
        {
          "output_type": "execute_result",
          "data": {
            "text/plain": [
              "200"
            ]
          },
          "metadata": {},
          "execution_count": 101
        }
      ]
    },
    {
      "cell_type": "code",
      "source": [
        "sum([[10, 20], [30, 40]], [])\n",
        "# sum([[10, 20], [30, 40]]) X"
      ],
      "metadata": {
        "colab": {
          "base_uri": "https://localhost:8080/"
        },
        "id": "6K0eelUHY0M9",
        "outputId": "bb4d8226-cdc9-47ac-c4bb-0a93c8a9d6ce"
      },
      "execution_count": null,
      "outputs": [
        {
          "output_type": "execute_result",
          "data": {
            "text/plain": [
              "[10, 20, 30, 40]"
            ]
          },
          "metadata": {},
          "execution_count": 102
        }
      ]
    },
    {
      "cell_type": "code",
      "source": [
        "[10, 20] + []\n",
        "[10, 20] + [30, 40]"
      ],
      "metadata": {
        "colab": {
          "base_uri": "https://localhost:8080/"
        },
        "id": "hoiu8cICZRGW",
        "outputId": "0fcfcaa6-05d3-4973-ed9a-d3bc172a0b96"
      },
      "execution_count": null,
      "outputs": [
        {
          "output_type": "execute_result",
          "data": {
            "text/plain": [
              "[10, 20, 30, 40]"
            ]
          },
          "metadata": {},
          "execution_count": 103
        }
      ]
    },
    {
      "cell_type": "code",
      "source": [
        "sum([[10, 20], [30, 40]], [])\n",
        "sum(sum([[10, 20], [30, 40]], []))"
      ],
      "metadata": {
        "colab": {
          "base_uri": "https://localhost:8080/"
        },
        "id": "Rgbr3-J9ZlWN",
        "outputId": "6d4f4a59-1f07-472f-9507-aca11be454ab"
      },
      "execution_count": null,
      "outputs": [
        {
          "output_type": "execute_result",
          "data": {
            "text/plain": [
              "100"
            ]
          },
          "metadata": {},
          "execution_count": 104
        }
      ]
    },
    {
      "cell_type": "code",
      "source": [
        "len('hello world')"
      ],
      "metadata": {
        "colab": {
          "base_uri": "https://localhost:8080/"
        },
        "id": "elXovlSxZt2V",
        "outputId": "30f6fea2-83f4-4ea9-9713-b618e1a96620"
      },
      "execution_count": null,
      "outputs": [
        {
          "output_type": "execute_result",
          "data": {
            "text/plain": [
              "11"
            ]
          },
          "metadata": {},
          "execution_count": 105
        }
      ]
    },
    {
      "cell_type": "code",
      "source": [
        "len({1, 2, 3})"
      ],
      "metadata": {
        "colab": {
          "base_uri": "https://localhost:8080/"
        },
        "id": "Iq6rkyMIZwqG",
        "outputId": "5ec9adac-8644-4ee4-fcf7-4f87c30d9a05"
      },
      "execution_count": null,
      "outputs": [
        {
          "output_type": "execute_result",
          "data": {
            "text/plain": [
              "3"
            ]
          },
          "metadata": {},
          "execution_count": 106
        }
      ]
    },
    {
      "cell_type": "code",
      "source": [
        "len({'one': 1, 'two': 2})"
      ],
      "metadata": {
        "colab": {
          "base_uri": "https://localhost:8080/"
        },
        "id": "pcliSx8MZzHl",
        "outputId": "0779af10-0052-48b7-8264-6ae7182ebd48"
      },
      "execution_count": null,
      "outputs": [
        {
          "output_type": "execute_result",
          "data": {
            "text/plain": [
              "2"
            ]
          },
          "metadata": {},
          "execution_count": 107
        }
      ]
    },
    {
      "cell_type": "code",
      "source": [
        "'h' in 'hello'\n",
        "1 in [1, 2, 3, 4]\n",
        "1 in {1, 2, 3, 4}\n",
        "'one' in {'one': 1, 'two': 2}\n",
        "# 1 in {'one': 1, 'two': 2} 이런식으로는 사용할 수 없습니다."
      ],
      "metadata": {
        "colab": {
          "base_uri": "https://localhost:8080/"
        },
        "id": "eEVQEH8NaCZN",
        "outputId": "f02018e3-72d6-422a-98cf-bc7531c55034"
      },
      "execution_count": null,
      "outputs": [
        {
          "output_type": "execute_result",
          "data": {
            "text/plain": [
              "True"
            ]
          },
          "metadata": {},
          "execution_count": 108
        }
      ]
    }
  ],
  "metadata": {
    "colab": {
      "toc_visible": true,
      "provenance": [],
      "include_colab_link": true
    },
    "kernelspec": {
      "display_name": "Python 3",
      "name": "python3"
    }
  },
  "nbformat": 4,
  "nbformat_minor": 0
}